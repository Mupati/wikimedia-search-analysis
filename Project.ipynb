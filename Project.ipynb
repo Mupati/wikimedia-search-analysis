{
 "cells": [
  {
   "cell_type": "code",
   "execution_count": 1,
   "metadata": {},
   "outputs": [],
   "source": [
    "# import packages\n",
    "import pandas as pd\n",
    "import numpy as np\n",
    "import seaborn as sb\n",
    "import matplotlib.pyplot as plt"
   ]
  },
  {
   "cell_type": "code",
   "execution_count": 2,
   "metadata": {},
   "outputs": [],
   "source": [
    "df = pd.read_csv('events_log.csv')"
   ]
  },
  {
   "cell_type": "code",
   "execution_count": 3,
   "metadata": {},
   "outputs": [
    {
     "data": {
      "text/plain": [
       "(400165, 9)"
      ]
     },
     "execution_count": 3,
     "metadata": {},
     "output_type": "execute_result"
    }
   ],
   "source": [
    "df.shape"
   ]
  },
  {
   "cell_type": "code",
   "execution_count": 4,
   "metadata": {},
   "outputs": [
    {
     "name": "stdout",
     "output_type": "stream",
     "text": [
      "<class 'pandas.core.frame.DataFrame'>\n",
      "RangeIndex: 400165 entries, 0 to 400164\n",
      "Data columns (total 9 columns):\n",
      "uuid               400165 non-null object\n",
      "timestamp          400165 non-null float64\n",
      "session_id         400165 non-null object\n",
      "group              400165 non-null object\n",
      "action             400165 non-null object\n",
      "checkin            223824 non-null float64\n",
      "page_id            400165 non-null object\n",
      "n_results          136234 non-null float64\n",
      "result_position    230482 non-null float64\n",
      "dtypes: float64(4), object(5)\n",
      "memory usage: 27.5+ MB\n"
     ]
    }
   ],
   "source": [
    "df.info()"
   ]
  },
  {
   "cell_type": "code",
   "execution_count": 5,
   "metadata": {},
   "outputs": [
    {
     "data": {
      "text/html": [
       "<div>\n",
       "<style scoped>\n",
       "    .dataframe tbody tr th:only-of-type {\n",
       "        vertical-align: middle;\n",
       "    }\n",
       "\n",
       "    .dataframe tbody tr th {\n",
       "        vertical-align: top;\n",
       "    }\n",
       "\n",
       "    .dataframe thead th {\n",
       "        text-align: right;\n",
       "    }\n",
       "</style>\n",
       "<table border=\"1\" class=\"dataframe\">\n",
       "  <thead>\n",
       "    <tr style=\"text-align: right;\">\n",
       "      <th></th>\n",
       "      <th>timestamp</th>\n",
       "      <th>checkin</th>\n",
       "      <th>n_results</th>\n",
       "      <th>result_position</th>\n",
       "    </tr>\n",
       "  </thead>\n",
       "  <tbody>\n",
       "    <tr>\n",
       "      <th>count</th>\n",
       "      <td>4.001650e+05</td>\n",
       "      <td>223824.000000</td>\n",
       "      <td>136234.000000</td>\n",
       "      <td>230482.000000</td>\n",
       "    </tr>\n",
       "    <tr>\n",
       "      <th>mean</th>\n",
       "      <td>2.016030e+13</td>\n",
       "      <td>97.190382</td>\n",
       "      <td>13.210109</td>\n",
       "      <td>2.992798</td>\n",
       "    </tr>\n",
       "    <tr>\n",
       "      <th>std</th>\n",
       "      <td>2.340996e+06</td>\n",
       "      <td>104.593714</td>\n",
       "      <td>13.271104</td>\n",
       "      <td>38.557292</td>\n",
       "    </tr>\n",
       "    <tr>\n",
       "      <th>min</th>\n",
       "      <td>2.016030e+13</td>\n",
       "      <td>10.000000</td>\n",
       "      <td>0.000000</td>\n",
       "      <td>1.000000</td>\n",
       "    </tr>\n",
       "    <tr>\n",
       "      <th>25%</th>\n",
       "      <td>2.016030e+13</td>\n",
       "      <td>20.000000</td>\n",
       "      <td>2.000000</td>\n",
       "      <td>1.000000</td>\n",
       "    </tr>\n",
       "    <tr>\n",
       "      <th>50%</th>\n",
       "      <td>2.016030e+13</td>\n",
       "      <td>50.000000</td>\n",
       "      <td>20.000000</td>\n",
       "      <td>1.000000</td>\n",
       "    </tr>\n",
       "    <tr>\n",
       "      <th>75%</th>\n",
       "      <td>2.016031e+13</td>\n",
       "      <td>150.000000</td>\n",
       "      <td>20.000000</td>\n",
       "      <td>2.000000</td>\n",
       "    </tr>\n",
       "    <tr>\n",
       "      <th>max</th>\n",
       "      <td>2.016031e+13</td>\n",
       "      <td>420.000000</td>\n",
       "      <td>500.000000</td>\n",
       "      <td>4103.000000</td>\n",
       "    </tr>\n",
       "  </tbody>\n",
       "</table>\n",
       "</div>"
      ],
      "text/plain": [
       "          timestamp        checkin      n_results  result_position\n",
       "count  4.001650e+05  223824.000000  136234.000000    230482.000000\n",
       "mean   2.016030e+13      97.190382      13.210109         2.992798\n",
       "std    2.340996e+06     104.593714      13.271104        38.557292\n",
       "min    2.016030e+13      10.000000       0.000000         1.000000\n",
       "25%    2.016030e+13      20.000000       2.000000         1.000000\n",
       "50%    2.016030e+13      50.000000      20.000000         1.000000\n",
       "75%    2.016031e+13     150.000000      20.000000         2.000000\n",
       "max    2.016031e+13     420.000000     500.000000      4103.000000"
      ]
     },
     "execution_count": 5,
     "metadata": {},
     "output_type": "execute_result"
    }
   ],
   "source": [
    "df.describe()"
   ]
  },
  {
   "cell_type": "code",
   "execution_count": 6,
   "metadata": {},
   "outputs": [
    {
     "data": {
      "text/html": [
       "<div>\n",
       "<style scoped>\n",
       "    .dataframe tbody tr th:only-of-type {\n",
       "        vertical-align: middle;\n",
       "    }\n",
       "\n",
       "    .dataframe tbody tr th {\n",
       "        vertical-align: top;\n",
       "    }\n",
       "\n",
       "    .dataframe thead th {\n",
       "        text-align: right;\n",
       "    }\n",
       "</style>\n",
       "<table border=\"1\" class=\"dataframe\">\n",
       "  <thead>\n",
       "    <tr style=\"text-align: right;\">\n",
       "      <th></th>\n",
       "      <th>uuid</th>\n",
       "      <th>timestamp</th>\n",
       "      <th>session_id</th>\n",
       "      <th>group</th>\n",
       "      <th>action</th>\n",
       "      <th>checkin</th>\n",
       "      <th>page_id</th>\n",
       "      <th>n_results</th>\n",
       "      <th>result_position</th>\n",
       "    </tr>\n",
       "  </thead>\n",
       "  <tbody>\n",
       "  </tbody>\n",
       "</table>\n",
       "</div>"
      ],
      "text/plain": [
       "Empty DataFrame\n",
       "Columns: [uuid, timestamp, session_id, group, action, checkin, page_id, n_results, result_position]\n",
       "Index: []"
      ]
     },
     "execution_count": 6,
     "metadata": {},
     "output_type": "execute_result"
    }
   ],
   "source": [
    "# Find duplicates\n",
    "df[df.duplicated()]"
   ]
  },
  {
   "cell_type": "code",
   "execution_count": 7,
   "metadata": {},
   "outputs": [],
   "source": [
    "# Convert timestamp to datetime\n",
    "df.timestamp =  pd.to_datetime(df.timestamp.astype('int64'), format='%Y%m%d%H%M%S', utc=True)"
   ]
  },
  {
   "cell_type": "code",
   "execution_count": 8,
   "metadata": {},
   "outputs": [],
   "source": [
    "# Convert action and group to Category\n",
    "df.action = df.action.astype('category')\n",
    "df.group = df.group.astype('category')"
   ]
  },
  {
   "cell_type": "code",
   "execution_count": 9,
   "metadata": {},
   "outputs": [],
   "source": [
    "# Convert session_id to categorical\n",
    "df.session_id = df.session_id.astype('category')\n",
    "df.page_id = df.page_id.astype('category')"
   ]
  },
  {
   "cell_type": "code",
   "execution_count": 10,
   "metadata": {},
   "outputs": [],
   "source": [
    "# Daily Click Through Rate\n",
    "df['day_of_week'] = df.timestamp.dt.day_name()"
   ]
  },
  {
   "cell_type": "code",
   "execution_count": 11,
   "metadata": {},
   "outputs": [],
   "source": [
    "df['time'] = df.timestamp.dt.time"
   ]
  },
  {
   "cell_type": "code",
   "execution_count": 12,
   "metadata": {},
   "outputs": [],
   "source": [
    "df['week'] = df.timestamp.dt.week"
   ]
  },
  {
   "cell_type": "code",
   "execution_count": 13,
   "metadata": {},
   "outputs": [],
   "source": [
    "# Create Ordered Category for the Days\n",
    "day_category_type = pd.api.types.CategoricalDtype(categories=[\"Monday\", \"Tuesday\", \"Wednesday\", \"Thursday\", \"Friday\", \"Saturday\", \"Sunday\"], ordered=True)"
   ]
  },
  {
   "cell_type": "code",
   "execution_count": 14,
   "metadata": {},
   "outputs": [],
   "source": [
    "# Change Day of Week to Categorical Type\n",
    "df['day_of_week'] = df.day_of_week.astype(day_category_type)"
   ]
  },
  {
   "cell_type": "code",
   "execution_count": 15,
   "metadata": {},
   "outputs": [],
   "source": [
    "df['date'] = df.timestamp.dt.date"
   ]
  },
  {
   "cell_type": "code",
   "execution_count": 20,
   "metadata": {},
   "outputs": [
    {
     "name": "stdout",
     "output_type": "stream",
     "text": [
      "<class 'pandas.core.frame.DataFrame'>\n",
      "RangeIndex: 400165 entries, 0 to 400164\n",
      "Data columns (total 13 columns):\n",
      "uuid               400165 non-null object\n",
      "timestamp          400165 non-null datetime64[ns, UTC]\n",
      "session_id         400165 non-null category\n",
      "group              400165 non-null category\n",
      "action             400165 non-null category\n",
      "checkin            223824 non-null float64\n",
      "page_id            400165 non-null category\n",
      "n_results          136234 non-null float64\n",
      "result_position    230482 non-null float64\n",
      "day_of_week        400165 non-null category\n",
      "time               400165 non-null object\n",
      "week               400165 non-null int64\n",
      "date               400165 non-null object\n",
      "dtypes: category(5), datetime64[ns, UTC](1), float64(3), int64(1), object(3)\n",
      "memory usage: 38.0+ MB\n"
     ]
    }
   ],
   "source": [
    "df.info()"
   ]
  },
  {
   "cell_type": "code",
   "execution_count": 22,
   "metadata": {},
   "outputs": [
    {
     "data": {
      "text/html": [
       "<div>\n",
       "<style scoped>\n",
       "    .dataframe tbody tr th:only-of-type {\n",
       "        vertical-align: middle;\n",
       "    }\n",
       "\n",
       "    .dataframe tbody tr th {\n",
       "        vertical-align: top;\n",
       "    }\n",
       "\n",
       "    .dataframe thead th {\n",
       "        text-align: right;\n",
       "    }\n",
       "</style>\n",
       "<table border=\"1\" class=\"dataframe\">\n",
       "  <thead>\n",
       "    <tr style=\"text-align: right;\">\n",
       "      <th></th>\n",
       "      <th>uuid</th>\n",
       "      <th>timestamp</th>\n",
       "      <th>session_id</th>\n",
       "      <th>group</th>\n",
       "      <th>action</th>\n",
       "      <th>checkin</th>\n",
       "      <th>page_id</th>\n",
       "      <th>n_results</th>\n",
       "      <th>result_position</th>\n",
       "      <th>day_of_week</th>\n",
       "      <th>time</th>\n",
       "      <th>week</th>\n",
       "      <th>date</th>\n",
       "    </tr>\n",
       "  </thead>\n",
       "  <tbody>\n",
       "    <tr>\n",
       "      <th>0</th>\n",
       "      <td>00000736167c507e8ec225bd9e71f9e5</td>\n",
       "      <td>2016-03-01 10:38:42+00:00</td>\n",
       "      <td>78245c2c3fba013a</td>\n",
       "      <td>b</td>\n",
       "      <td>searchResultPage</td>\n",
       "      <td>NaN</td>\n",
       "      <td>cbeb66d1bc1f1bc2</td>\n",
       "      <td>5.0</td>\n",
       "      <td>NaN</td>\n",
       "      <td>Tuesday</td>\n",
       "      <td>10:38:42</td>\n",
       "      <td>9</td>\n",
       "      <td>2016-03-01</td>\n",
       "    </tr>\n",
       "    <tr>\n",
       "      <th>1</th>\n",
       "      <td>00000c69fe345268935463abbfa5d5b3</td>\n",
       "      <td>2016-03-07 00:52:26+00:00</td>\n",
       "      <td>c559c3be98dca8a4</td>\n",
       "      <td>a</td>\n",
       "      <td>searchResultPage</td>\n",
       "      <td>NaN</td>\n",
       "      <td>eb658e8722aad674</td>\n",
       "      <td>10.0</td>\n",
       "      <td>NaN</td>\n",
       "      <td>Monday</td>\n",
       "      <td>00:52:26</td>\n",
       "      <td>10</td>\n",
       "      <td>2016-03-07</td>\n",
       "    </tr>\n",
       "    <tr>\n",
       "      <th>2</th>\n",
       "      <td>00003bfdab715ee59077a3670331b787</td>\n",
       "      <td>2016-03-02 14:53:05+00:00</td>\n",
       "      <td>760bf89817ce4b08</td>\n",
       "      <td>a</td>\n",
       "      <td>checkin</td>\n",
       "      <td>30.0</td>\n",
       "      <td>f99a9fc1f7fdd21e</td>\n",
       "      <td>NaN</td>\n",
       "      <td>NaN</td>\n",
       "      <td>Wednesday</td>\n",
       "      <td>14:53:05</td>\n",
       "      <td>9</td>\n",
       "      <td>2016-03-02</td>\n",
       "    </tr>\n",
       "    <tr>\n",
       "      <th>3</th>\n",
       "      <td>0000465cd7c35ad2bdeafec953e08c1a</td>\n",
       "      <td>2016-03-02 22:27:01+00:00</td>\n",
       "      <td>fb905603d31b2071</td>\n",
       "      <td>a</td>\n",
       "      <td>checkin</td>\n",
       "      <td>60.0</td>\n",
       "      <td>e5626962a6939a75</td>\n",
       "      <td>NaN</td>\n",
       "      <td>10.0</td>\n",
       "      <td>Wednesday</td>\n",
       "      <td>22:27:01</td>\n",
       "      <td>9</td>\n",
       "      <td>2016-03-02</td>\n",
       "    </tr>\n",
       "    <tr>\n",
       "      <th>4</th>\n",
       "      <td>000050cbb4ef5b42b16c4d2cf69e6358</td>\n",
       "      <td>2016-03-02 09:50:23+00:00</td>\n",
       "      <td>c2bf5e5172a892dc</td>\n",
       "      <td>a</td>\n",
       "      <td>checkin</td>\n",
       "      <td>30.0</td>\n",
       "      <td>787dd6a4c371cbf9</td>\n",
       "      <td>NaN</td>\n",
       "      <td>NaN</td>\n",
       "      <td>Wednesday</td>\n",
       "      <td>09:50:23</td>\n",
       "      <td>9</td>\n",
       "      <td>2016-03-02</td>\n",
       "    </tr>\n",
       "  </tbody>\n",
       "</table>\n",
       "</div>"
      ],
      "text/plain": [
       "                               uuid                 timestamp  \\\n",
       "0  00000736167c507e8ec225bd9e71f9e5 2016-03-01 10:38:42+00:00   \n",
       "1  00000c69fe345268935463abbfa5d5b3 2016-03-07 00:52:26+00:00   \n",
       "2  00003bfdab715ee59077a3670331b787 2016-03-02 14:53:05+00:00   \n",
       "3  0000465cd7c35ad2bdeafec953e08c1a 2016-03-02 22:27:01+00:00   \n",
       "4  000050cbb4ef5b42b16c4d2cf69e6358 2016-03-02 09:50:23+00:00   \n",
       "\n",
       "         session_id group            action  checkin           page_id  \\\n",
       "0  78245c2c3fba013a     b  searchResultPage      NaN  cbeb66d1bc1f1bc2   \n",
       "1  c559c3be98dca8a4     a  searchResultPage      NaN  eb658e8722aad674   \n",
       "2  760bf89817ce4b08     a           checkin     30.0  f99a9fc1f7fdd21e   \n",
       "3  fb905603d31b2071     a           checkin     60.0  e5626962a6939a75   \n",
       "4  c2bf5e5172a892dc     a           checkin     30.0  787dd6a4c371cbf9   \n",
       "\n",
       "   n_results  result_position day_of_week      time  week        date  \n",
       "0        5.0              NaN     Tuesday  10:38:42     9  2016-03-01  \n",
       "1       10.0              NaN      Monday  00:52:26    10  2016-03-07  \n",
       "2        NaN              NaN   Wednesday  14:53:05     9  2016-03-02  \n",
       "3        NaN             10.0   Wednesday  22:27:01     9  2016-03-02  \n",
       "4        NaN              NaN   Wednesday  09:50:23     9  2016-03-02  "
      ]
     },
     "execution_count": 22,
     "metadata": {},
     "output_type": "execute_result"
    }
   ],
   "source": [
    "df.head()"
   ]
  },
  {
   "cell_type": "markdown",
   "metadata": {},
   "source": [
    "### Computing and Visualizing the Daily Clickthrough Rate\n",
    "\n",
    "For a given session we find the number of `action = 'visitPage'`  and divide by the total actions."
   ]
  },
  {
   "cell_type": "code",
   "execution_count": 23,
   "metadata": {},
   "outputs": [],
   "source": [
    "default_colour = sb.color_palette()[0]"
   ]
  },
  {
   "cell_type": "code",
   "execution_count": 26,
   "metadata": {},
   "outputs": [
    {
     "name": "stdout",
     "output_type": "stream",
     "text": [
      "0.3888398894572823\n"
     ]
    }
   ],
   "source": [
    "# overall clickthrough rate\n",
    "overall_clickthrough_rate = df.groupby('session_id')['action'].apply(lambda x: True if any(x == 'visitPage') else False ).mean()\n",
    "print(overall_clickthrough_rate)"
   ]
  },
  {
   "cell_type": "code",
   "execution_count": 27,
   "metadata": {},
   "outputs": [],
   "source": [
    "# Compute the Sessions that have click through.\n",
    "# clickthrough_sessions = df_session_grouped['action'].apply(lambda x: True if any(x == 'visitPage') else False ).reset_index(name='clickthrough')"
   ]
  },
  {
   "cell_type": "code",
   "execution_count": 28,
   "metadata": {},
   "outputs": [
    {
     "data": {
      "text/html": [
       "<div>\n",
       "<style scoped>\n",
       "    .dataframe tbody tr th:only-of-type {\n",
       "        vertical-align: middle;\n",
       "    }\n",
       "\n",
       "    .dataframe tbody tr th {\n",
       "        vertical-align: top;\n",
       "    }\n",
       "\n",
       "    .dataframe thead th {\n",
       "        text-align: right;\n",
       "    }\n",
       "</style>\n",
       "<table border=\"1\" class=\"dataframe\">\n",
       "  <thead>\n",
       "    <tr style=\"text-align: right;\">\n",
       "      <th></th>\n",
       "      <th>group</th>\n",
       "      <th>group_clickthrough_rate</th>\n",
       "    </tr>\n",
       "  </thead>\n",
       "  <tbody>\n",
       "    <tr>\n",
       "      <th>0</th>\n",
       "      <td>a</td>\n",
       "      <td>0.669657</td>\n",
       "    </tr>\n",
       "    <tr>\n",
       "      <th>1</th>\n",
       "      <td>b</td>\n",
       "      <td>0.174762</td>\n",
       "    </tr>\n",
       "  </tbody>\n",
       "</table>\n",
       "</div>"
      ],
      "text/plain": [
       "  group  group_clickthrough_rate\n",
       "0     a                 0.669657\n",
       "1     b                 0.174762"
      ]
     },
     "execution_count": 28,
     "metadata": {},
     "output_type": "execute_result"
    },
    {
     "data": {
      "image/png": "[encoded data removed]",
      "text/plain": [
       "<Figure size 360x360 with 1 Axes>"
      ]
     },
     "metadata": {
      "needs_background": "light"
     },
     "output_type": "display_data"
    }
   ],
   "source": [
    "# Visualize Clickthrough Rate Per Group\n",
    "\n",
    "# Categorize the data according to 'group' and 'session_id' and check the action for each session_id to find the ones which have at least one of the 'action' == 'visitPage'\n",
    "# True if it meets the condition and False if it doesn't\n",
    "# Calculate the clickthrough rate for each group, i.e the proportion of the sessions that were assigned 'True'\n",
    "group_plot_data = df.groupby(['group','session_id'])['action'].apply(lambda x: True if any(x == 'visitPage') else False).reset_index(name=\"group_clickthrough_rate\").groupby('group').mean().reset_index()\n",
    "\n",
    "# Plot the Result\n",
    "sb.catplot(data=group_plot_data, x='group', y=\"group_clickthrough_rate\", kind=\"bar\", color=default_colour);\n",
    "\n",
    "# Print Results\n",
    "group_plot_data"
   ]
  },
  {
   "cell_type": "code",
   "execution_count": 29,
   "metadata": {},
   "outputs": [
    {
     "data": {
      "text/html": [
       "<div>\n",
       "<style scoped>\n",
       "    .dataframe tbody tr th:only-of-type {\n",
       "        vertical-align: middle;\n",
       "    }\n",
       "\n",
       "    .dataframe tbody tr th {\n",
       "        vertical-align: top;\n",
       "    }\n",
       "\n",
       "    .dataframe thead th {\n",
       "        text-align: right;\n",
       "    }\n",
       "</style>\n",
       "<table border=\"1\" class=\"dataframe\">\n",
       "  <thead>\n",
       "    <tr style=\"text-align: right;\">\n",
       "      <th></th>\n",
       "      <th>day_of_week</th>\n",
       "      <th>daily_clickthrough_rate</th>\n",
       "    </tr>\n",
       "  </thead>\n",
       "  <tbody>\n",
       "    <tr>\n",
       "      <th>1</th>\n",
       "      <td>Monday</td>\n",
       "      <td>0.392562</td>\n",
       "    </tr>\n",
       "    <tr>\n",
       "      <th>5</th>\n",
       "      <td>Tuesday</td>\n",
       "      <td>0.384004</td>\n",
       "    </tr>\n",
       "    <tr>\n",
       "      <th>6</th>\n",
       "      <td>Wednesday</td>\n",
       "      <td>0.390884</td>\n",
       "    </tr>\n",
       "    <tr>\n",
       "      <th>4</th>\n",
       "      <td>Thursday</td>\n",
       "      <td>0.387476</td>\n",
       "    </tr>\n",
       "    <tr>\n",
       "      <th>0</th>\n",
       "      <td>Friday</td>\n",
       "      <td>0.398279</td>\n",
       "    </tr>\n",
       "    <tr>\n",
       "      <th>2</th>\n",
       "      <td>Saturday</td>\n",
       "      <td>0.381751</td>\n",
       "    </tr>\n",
       "    <tr>\n",
       "      <th>3</th>\n",
       "      <td>Sunday</td>\n",
       "      <td>0.388177</td>\n",
       "    </tr>\n",
       "  </tbody>\n",
       "</table>\n",
       "</div>"
      ],
      "text/plain": [
       "  day_of_week  daily_clickthrough_rate\n",
       "1      Monday                 0.392562\n",
       "5     Tuesday                 0.384004\n",
       "6   Wednesday                 0.390884\n",
       "4    Thursday                 0.387476\n",
       "0      Friday                 0.398279\n",
       "2    Saturday                 0.381751\n",
       "3      Sunday                 0.388177"
      ]
     },
     "execution_count": 29,
     "metadata": {},
     "output_type": "execute_result"
    },
    {
     "data": {
      "image/png": "[encoded data removed]",
      "text/plain": [
       "<Figure size 1080x360 with 1 Axes>"
      ]
     },
     "metadata": {
      "needs_background": "light"
     },
     "output_type": "display_data"
    }
   ],
   "source": [
    "# Visualize Daily Clickthrough Rate\n",
    "\n",
    "# Categorize the data according to 'day_of_week' and 'session_id' and check the action for each session_id to find the ones which have at least one of the 'action' == 'visitPage'\n",
    "# True if it meets the condition and False if it doesn't\n",
    "# Calculate the clickthrough rate for each day_of_week, i.e the proportion of the sessions that were assigned 'True'\n",
    "daily_plot_data = df.groupby(['day_of_week','session_id'])['action'].apply(lambda x: True if any(x == 'visitPage') else False).reset_index(name=\"daily_clickthrough_rate\").groupby('day_of_week').mean().reset_index()\n",
    "\n",
    "# Change day_of_week in the results to ordered categorical type - Monday to Sunday\n",
    "daily_plot_data['day_of_week'] = daily_plot_data['day_of_week'].astype(day_category_type)\n",
    "\n",
    "# Plot the Result\n",
    "sb.catplot(data=daily_plot_data, x='day_of_week', y=\"daily_clickthrough_rate\", kind=\"bar\", color=default_colour, aspect=3);\n",
    "\n",
    "# Print Results\n",
    "daily_plot_data.sort_values('day_of_week')"
   ]
  },
  {
   "cell_type": "code",
   "execution_count": 30,
   "metadata": {},
   "outputs": [
    {
     "data": {
      "text/html": [
       "<div>\n",
       "<style scoped>\n",
       "    .dataframe tbody tr th:only-of-type {\n",
       "        vertical-align: middle;\n",
       "    }\n",
       "\n",
       "    .dataframe tbody tr th {\n",
       "        vertical-align: top;\n",
       "    }\n",
       "\n",
       "    .dataframe thead th {\n",
       "        text-align: right;\n",
       "    }\n",
       "</style>\n",
       "<table border=\"1\" class=\"dataframe\">\n",
       "  <thead>\n",
       "    <tr style=\"text-align: right;\">\n",
       "      <th>day_of_week</th>\n",
       "      <th>Monday</th>\n",
       "      <th>Tuesday</th>\n",
       "      <th>Wednesday</th>\n",
       "      <th>Thursday</th>\n",
       "      <th>Friday</th>\n",
       "      <th>Saturday</th>\n",
       "      <th>Sunday</th>\n",
       "    </tr>\n",
       "    <tr>\n",
       "      <th>group</th>\n",
       "      <th></th>\n",
       "      <th></th>\n",
       "      <th></th>\n",
       "      <th></th>\n",
       "      <th></th>\n",
       "      <th></th>\n",
       "      <th></th>\n",
       "    </tr>\n",
       "  </thead>\n",
       "  <tbody>\n",
       "    <tr>\n",
       "      <th>a</th>\n",
       "      <td>0.656746</td>\n",
       "      <td>0.668151</td>\n",
       "      <td>0.681269</td>\n",
       "      <td>0.675374</td>\n",
       "      <td>0.675583</td>\n",
       "      <td>0.644973</td>\n",
       "      <td>0.672820</td>\n",
       "    </tr>\n",
       "    <tr>\n",
       "      <th>b</th>\n",
       "      <td>0.199347</td>\n",
       "      <td>0.160889</td>\n",
       "      <td>0.145232</td>\n",
       "      <td>0.151933</td>\n",
       "      <td>0.192657</td>\n",
       "      <td>0.201998</td>\n",
       "      <td>0.189609</td>\n",
       "    </tr>\n",
       "  </tbody>\n",
       "</table>\n",
       "</div>"
      ],
      "text/plain": [
       "day_of_week    Monday   Tuesday  Wednesday  Thursday    Friday  Saturday  \\\n",
       "group                                                                      \n",
       "a            0.656746  0.668151   0.681269  0.675374  0.675583  0.644973   \n",
       "b            0.199347  0.160889   0.145232  0.151933  0.192657  0.201998   \n",
       "\n",
       "day_of_week    Sunday  \n",
       "group                  \n",
       "a            0.672820  \n",
       "b            0.189609  "
      ]
     },
     "execution_count": 30,
     "metadata": {},
     "output_type": "execute_result"
    },
    {
     "data": {
      "image/png": "[encoded data removed]",
      "text/plain": [
       "<Figure size 1122.25x360 with 1 Axes>"
      ]
     },
     "metadata": {
      "needs_background": "light"
     },
     "output_type": "display_data"
    }
   ],
   "source": [
    "# Visualize Daily Clickthrough Rate Per Group\n",
    "\n",
    "# Categorize the data according to 'day_of_week','session_id', and 'group' and check the action for each session_id to find the ones which have at least one of the 'action' == 'visitPage'\n",
    "# True if it meets the condition and False if it doesn't\n",
    "# Calculate the clickthrough rate for each day_of_week, i.e the proportion of the sessions that were assigned 'True'\n",
    "bivariate_clickthrough_data = df.groupby(['group','day_of_week','session_id'])['action'].apply(lambda x: True if any(x == 'visitPage') else False\n",
    "                                                                                  ).reset_index(name=\"daily_clickthrough_rate\").groupby(['group','day_of_week']).mean().reset_index()\n",
    "\n",
    "# Change day_of_week in the results to ordered categorical type - Monday to Sunday\n",
    "bivariate_clickthrough_data['day_of_week'] = bivariate_clickthrough_data['day_of_week'].astype(day_category_type)\n",
    "\n",
    "# Plot the Result\n",
    "sb.catplot(data=bivariate_clickthrough_data, x='day_of_week', y=\"daily_clickthrough_rate\", hue=\"group\", kind=\"bar\", color=default_colour, aspect=3);\n",
    "\n",
    "# Print Results\n",
    "pd.pivot_table(bivariate_clickthrough_data, columns='day_of_week', index='group', values='daily_clickthrough_rate')"
   ]
  },
  {
   "cell_type": "code",
   "execution_count": 31,
   "metadata": {},
   "outputs": [
    {
     "data": {
      "text/html": [
       "<div>\n",
       "<style scoped>\n",
       "    .dataframe tbody tr th:only-of-type {\n",
       "        vertical-align: middle;\n",
       "    }\n",
       "\n",
       "    .dataframe tbody tr th {\n",
       "        vertical-align: top;\n",
       "    }\n",
       "\n",
       "    .dataframe thead th {\n",
       "        text-align: right;\n",
       "    }\n",
       "</style>\n",
       "<table border=\"1\" class=\"dataframe\">\n",
       "  <thead>\n",
       "    <tr style=\"text-align: right;\">\n",
       "      <th>day_of_week</th>\n",
       "      <th>Monday</th>\n",
       "      <th>Tuesday</th>\n",
       "      <th>Wednesday</th>\n",
       "      <th>Thursday</th>\n",
       "      <th>Friday</th>\n",
       "      <th>Saturday</th>\n",
       "      <th>Sunday</th>\n",
       "    </tr>\n",
       "    <tr>\n",
       "      <th>group</th>\n",
       "      <th></th>\n",
       "      <th></th>\n",
       "      <th></th>\n",
       "      <th></th>\n",
       "      <th></th>\n",
       "      <th></th>\n",
       "      <th></th>\n",
       "    </tr>\n",
       "  </thead>\n",
       "  <tbody>\n",
       "    <tr>\n",
       "      <th>a</th>\n",
       "      <td>0.656746</td>\n",
       "      <td>0.668151</td>\n",
       "      <td>0.681269</td>\n",
       "      <td>0.675374</td>\n",
       "      <td>0.675583</td>\n",
       "      <td>0.644973</td>\n",
       "      <td>0.672820</td>\n",
       "    </tr>\n",
       "    <tr>\n",
       "      <th>b</th>\n",
       "      <td>0.199347</td>\n",
       "      <td>0.160889</td>\n",
       "      <td>0.145232</td>\n",
       "      <td>0.151933</td>\n",
       "      <td>0.192657</td>\n",
       "      <td>0.201998</td>\n",
       "      <td>0.189609</td>\n",
       "    </tr>\n",
       "  </tbody>\n",
       "</table>\n",
       "</div>"
      ],
      "text/plain": [
       "day_of_week    Monday   Tuesday  Wednesday  Thursday    Friday  Saturday  \\\n",
       "group                                                                      \n",
       "a            0.656746  0.668151   0.681269  0.675374  0.675583  0.644973   \n",
       "b            0.199347  0.160889   0.145232  0.151933  0.192657  0.201998   \n",
       "\n",
       "day_of_week    Sunday  \n",
       "group                  \n",
       "a            0.672820  \n",
       "b            0.189609  "
      ]
     },
     "execution_count": 31,
     "metadata": {},
     "output_type": "execute_result"
    }
   ],
   "source": [
    "pd.pivot_table(bivariate_clickthrough_data, columns='day_of_week', index='group', values='daily_clickthrough_rate')"
   ]
  },
  {
   "cell_type": "markdown",
   "metadata": {},
   "source": [
    "## **Zero Result Rates**"
   ]
  },
  {
   "cell_type": "code",
   "execution_count": 32,
   "metadata": {},
   "outputs": [
    {
     "name": "stderr",
     "output_type": "stream",
     "text": [
      "/home/mupati/.virtualenvs/azure-ml/lib/python3.6/site-packages/ipykernel_launcher.py:2: SettingWithCopyWarning: \n",
      "A value is trying to be set on a copy of a slice from a DataFrame.\n",
      "Try using .loc[row_indexer,col_indexer] = value instead\n",
      "\n",
      "See the caveats in the documentation: http://pandas.pydata.org/pandas-docs/stable/indexing.html#indexing-view-versus-copy\n",
      "  \n"
     ]
    },
    {
     "data": {
      "text/html": [
       "<div>\n",
       "<style scoped>\n",
       "    .dataframe tbody tr th:only-of-type {\n",
       "        vertical-align: middle;\n",
       "    }\n",
       "\n",
       "    .dataframe tbody tr th {\n",
       "        vertical-align: top;\n",
       "    }\n",
       "\n",
       "    .dataframe thead th {\n",
       "        text-align: right;\n",
       "    }\n",
       "</style>\n",
       "<table border=\"1\" class=\"dataframe\">\n",
       "  <thead>\n",
       "    <tr style=\"text-align: right;\">\n",
       "      <th></th>\n",
       "      <th>uuid</th>\n",
       "      <th>timestamp</th>\n",
       "      <th>session_id</th>\n",
       "      <th>group</th>\n",
       "      <th>action</th>\n",
       "      <th>checkin</th>\n",
       "      <th>page_id</th>\n",
       "      <th>n_results</th>\n",
       "      <th>result_position</th>\n",
       "      <th>day_of_week</th>\n",
       "      <th>time</th>\n",
       "      <th>week</th>\n",
       "      <th>date</th>\n",
       "      <th>is_zero_result</th>\n",
       "    </tr>\n",
       "  </thead>\n",
       "  <tbody>\n",
       "    <tr>\n",
       "      <th>0</th>\n",
       "      <td>00000736167c507e8ec225bd9e71f9e5</td>\n",
       "      <td>2016-03-01 10:38:42+00:00</td>\n",
       "      <td>78245c2c3fba013a</td>\n",
       "      <td>b</td>\n",
       "      <td>searchResultPage</td>\n",
       "      <td>NaN</td>\n",
       "      <td>cbeb66d1bc1f1bc2</td>\n",
       "      <td>5.0</td>\n",
       "      <td>NaN</td>\n",
       "      <td>Tuesday</td>\n",
       "      <td>10:38:42</td>\n",
       "      <td>9</td>\n",
       "      <td>2016-03-01</td>\n",
       "      <td>False</td>\n",
       "    </tr>\n",
       "    <tr>\n",
       "      <th>1</th>\n",
       "      <td>00000c69fe345268935463abbfa5d5b3</td>\n",
       "      <td>2016-03-07 00:52:26+00:00</td>\n",
       "      <td>c559c3be98dca8a4</td>\n",
       "      <td>a</td>\n",
       "      <td>searchResultPage</td>\n",
       "      <td>NaN</td>\n",
       "      <td>eb658e8722aad674</td>\n",
       "      <td>10.0</td>\n",
       "      <td>NaN</td>\n",
       "      <td>Monday</td>\n",
       "      <td>00:52:26</td>\n",
       "      <td>10</td>\n",
       "      <td>2016-03-07</td>\n",
       "      <td>False</td>\n",
       "    </tr>\n",
       "    <tr>\n",
       "      <th>7</th>\n",
       "      <td>000104fe220a5675a270420cd6d4d4ac</td>\n",
       "      <td>2016-03-02 01:28:45+00:00</td>\n",
       "      <td>485eabe5374f09e4</td>\n",
       "      <td>b</td>\n",
       "      <td>searchResultPage</td>\n",
       "      <td>NaN</td>\n",
       "      <td>4da9a64232ce947b</td>\n",
       "      <td>15.0</td>\n",
       "      <td>NaN</td>\n",
       "      <td>Wednesday</td>\n",
       "      <td>01:28:45</td>\n",
       "      <td>9</td>\n",
       "      <td>2016-03-02</td>\n",
       "      <td>False</td>\n",
       "    </tr>\n",
       "    <tr>\n",
       "      <th>10</th>\n",
       "      <td>00015c90c82354fba4a40a832a67bb76</td>\n",
       "      <td>2016-03-07 14:07:07+00:00</td>\n",
       "      <td>9822d8a8dc66a02b</td>\n",
       "      <td>a</td>\n",
       "      <td>searchResultPage</td>\n",
       "      <td>NaN</td>\n",
       "      <td>0f58bcfc65454f23</td>\n",
       "      <td>20.0</td>\n",
       "      <td>NaN</td>\n",
       "      <td>Monday</td>\n",
       "      <td>14:07:07</td>\n",
       "      <td>10</td>\n",
       "      <td>2016-03-07</td>\n",
       "      <td>False</td>\n",
       "    </tr>\n",
       "    <tr>\n",
       "      <th>12</th>\n",
       "      <td>0001e32066ce5aceafc0c16c4bdf7cab</td>\n",
       "      <td>2016-03-05 04:18:04+00:00</td>\n",
       "      <td>58ebf0bc66ff11a6</td>\n",
       "      <td>a</td>\n",
       "      <td>searchResultPage</td>\n",
       "      <td>NaN</td>\n",
       "      <td>e80fe6b7a68c4f98</td>\n",
       "      <td>9.0</td>\n",
       "      <td>NaN</td>\n",
       "      <td>Saturday</td>\n",
       "      <td>04:18:04</td>\n",
       "      <td>9</td>\n",
       "      <td>2016-03-05</td>\n",
       "      <td>False</td>\n",
       "    </tr>\n",
       "  </tbody>\n",
       "</table>\n",
       "</div>"
      ],
      "text/plain": [
       "                                uuid                 timestamp  \\\n",
       "0   00000736167c507e8ec225bd9e71f9e5 2016-03-01 10:38:42+00:00   \n",
       "1   00000c69fe345268935463abbfa5d5b3 2016-03-07 00:52:26+00:00   \n",
       "7   000104fe220a5675a270420cd6d4d4ac 2016-03-02 01:28:45+00:00   \n",
       "10  00015c90c82354fba4a40a832a67bb76 2016-03-07 14:07:07+00:00   \n",
       "12  0001e32066ce5aceafc0c16c4bdf7cab 2016-03-05 04:18:04+00:00   \n",
       "\n",
       "          session_id group            action  checkin           page_id  \\\n",
       "0   78245c2c3fba013a     b  searchResultPage      NaN  cbeb66d1bc1f1bc2   \n",
       "1   c559c3be98dca8a4     a  searchResultPage      NaN  eb658e8722aad674   \n",
       "7   485eabe5374f09e4     b  searchResultPage      NaN  4da9a64232ce947b   \n",
       "10  9822d8a8dc66a02b     a  searchResultPage      NaN  0f58bcfc65454f23   \n",
       "12  58ebf0bc66ff11a6     a  searchResultPage      NaN  e80fe6b7a68c4f98   \n",
       "\n",
       "    n_results  result_position day_of_week      time  week        date  \\\n",
       "0         5.0              NaN     Tuesday  10:38:42     9  2016-03-01   \n",
       "1        10.0              NaN      Monday  00:52:26    10  2016-03-07   \n",
       "7        15.0              NaN   Wednesday  01:28:45     9  2016-03-02   \n",
       "10       20.0              NaN      Monday  14:07:07    10  2016-03-07   \n",
       "12        9.0              NaN    Saturday  04:18:04     9  2016-03-05   \n",
       "\n",
       "    is_zero_result  \n",
       "0            False  \n",
       "1            False  \n",
       "7            False  \n",
       "10           False  \n",
       "12           False  "
      ]
     },
     "execution_count": 32,
     "metadata": {},
     "output_type": "execute_result"
    }
   ],
   "source": [
    "serp_df = df.query('action == \"searchResultPage\"')\n",
    "serp_df['is_zero_result'] = serp_df.apply(lambda x: True if (x.n_results == 0) else False , axis=1)\n",
    "serp_df.head()"
   ]
  },
  {
   "cell_type": "code",
   "execution_count": 33,
   "metadata": {},
   "outputs": [
    {
     "name": "stdout",
     "output_type": "stream",
     "text": [
      "0.18444000763392399\n"
     ]
    }
   ],
   "source": [
    "# Overall Zero Results Rate\n",
    "overall_zero_results_rate = np.mean(serp_df.is_zero_result)\n",
    "print(overall_zero_results_rate)"
   ]
  },
  {
   "cell_type": "code",
   "execution_count": 34,
   "metadata": {},
   "outputs": [
    {
     "name": "stdout",
     "output_type": "stream",
     "text": [
      "  group  zero_results_rate\n",
      "0     a           0.183606\n",
      "1     b           0.186179\n"
     ]
    },
    {
     "data": {
      "image/png": "[encoded data removed]",
      "text/plain": [
       "<Figure size 360x360 with 1 Axes>"
      ]
     },
     "metadata": {
      "needs_background": "light"
     },
     "output_type": "display_data"
    }
   ],
   "source": [
    "# Zero Results Rate Rate Per Group\n",
    "group_zero_results_rate =  serp_df.groupby('group').mean()['is_zero_result'].reset_index(name=\"zero_results_rate\")\n",
    "print(group_zero_results_rate)\n",
    "sb.catplot(data=group_zero_results_rate, x='group', y=\"zero_results_rate\", kind=\"bar\", color=default_colour);"
   ]
  },
  {
   "cell_type": "code",
   "execution_count": 35,
   "metadata": {},
   "outputs": [
    {
     "data": {
      "image/png": "[encoded data removed]",
      "text/plain": [
       "<Figure size 1080x360 with 1 Axes>"
      ]
     },
     "metadata": {
      "needs_background": "light"
     },
     "output_type": "display_data"
    }
   ],
   "source": [
    "daily_zero_results_rate = serp_df.groupby(['day_of_week']).mean()['is_zero_result'].reset_index(name=\"zero_results_rate\")\n",
    "sb.catplot(data=daily_zero_results_rate, x='day_of_week', y=\"zero_results_rate\", kind=\"bar\", color=default_colour, aspect=3);"
   ]
  },
  {
   "cell_type": "code",
   "execution_count": 36,
   "metadata": {},
   "outputs": [
    {
     "data": {
      "image/png": "[encoded data removed]",
      "text/plain": [
       "<Figure size 1122.25x360 with 1 Axes>"
      ]
     },
     "metadata": {
      "needs_background": "light"
     },
     "output_type": "display_data"
    }
   ],
   "source": [
    "# Zero Results Rate using Day and Group\n",
    "daily_zero_results_group = serp_df.groupby(['group','day_of_week']).mean()['is_zero_result'].reset_index(name=\"zero_results_rate\")\n",
    "sb.catplot(data=daily_zero_results_group, x='day_of_week', y=\"zero_results_rate\", hue=\"group\", kind=\"bar\", color=default_colour, aspect=3);"
   ]
  },
  {
   "cell_type": "markdown",
   "metadata": {},
   "source": [
    "## Which Result do people tend to choose first"
   ]
  },
  {
   "cell_type": "code",
   "execution_count": 37,
   "metadata": {},
   "outputs": [],
   "source": [
    "# Find the Results that were clicked and have an assigned position number\n",
    "clicked_results_with_position = df.query('action == \"visitPage\" and result_position.notna()')"
   ]
  },
  {
   "cell_type": "code",
   "execution_count": 38,
   "metadata": {},
   "outputs": [
    {
     "name": "stderr",
     "output_type": "stream",
     "text": [
      "/home/mupati/.virtualenvs/azure-ml/lib/python3.6/site-packages/pandas/core/generic.py:4405: SettingWithCopyWarning: \n",
      "A value is trying to be set on a copy of a slice from a DataFrame.\n",
      "Try using .loc[row_indexer,col_indexer] = value instead\n",
      "\n",
      "See the caveats in the documentation: http://pandas.pydata.org/pandas-docs/stable/indexing.html#indexing-view-versus-copy\n",
      "  self[name] = value\n"
     ]
    }
   ],
   "source": [
    "# Convert the result position number to int.\n",
    "clicked_results_with_position.result_position = clicked_results_with_position.result_position.astype('int64')"
   ]
  },
  {
   "cell_type": "code",
   "execution_count": 39,
   "metadata": {},
   "outputs": [
    {
     "name": "stdout",
     "output_type": "stream",
     "text": [
      "<class 'pandas.core.frame.DataFrame'>\n",
      "Int64Index: 34079 entries, 21 to 400141\n",
      "Data columns (total 13 columns):\n",
      "uuid               34079 non-null object\n",
      "timestamp          34079 non-null datetime64[ns, UTC]\n",
      "session_id         34079 non-null category\n",
      "group              34079 non-null category\n",
      "action             34079 non-null category\n",
      "checkin            0 non-null float64\n",
      "page_id            34079 non-null category\n",
      "n_results          0 non-null float64\n",
      "result_position    34079 non-null int64\n",
      "day_of_week        34079 non-null category\n",
      "time               34079 non-null object\n",
      "week               34079 non-null int64\n",
      "date               34079 non-null object\n",
      "dtypes: category(5), datetime64[ns, UTC](1), float64(2), int64(2), object(3)\n",
      "memory usage: 12.1+ MB\n"
     ]
    }
   ],
   "source": [
    "clicked_results_with_position.info()"
   ]
  },
  {
   "cell_type": "code",
   "execution_count": 40,
   "metadata": {},
   "outputs": [],
   "source": [
    "# For each session, choose the one that was clicked first.\n",
    "grouped_session = clicked_results_with_position.groupby('session_id')"
   ]
  },
  {
   "cell_type": "code",
   "execution_count": 42,
   "metadata": {},
   "outputs": [],
   "source": [
    "plot_data = grouped_session[['timestamp', 'result_position','day_of_week','date']].apply(lambda g: g[g['timestamp'] == g['timestamp'].min()]).reset_index()"
   ]
  },
  {
   "cell_type": "code",
   "execution_count": 43,
   "metadata": {},
   "outputs": [
    {
     "name": "stdout",
     "output_type": "stream",
     "text": [
      "<class 'pandas.core.frame.DataFrame'>\n",
      "RangeIndex: 26450 entries, 0 to 26449\n",
      "Data columns (total 6 columns):\n",
      "session_id         26450 non-null category\n",
      "level_1            26450 non-null int64\n",
      "timestamp          26450 non-null datetime64[ns, UTC]\n",
      "result_position    26450 non-null int64\n",
      "day_of_week        26450 non-null category\n",
      "date               26450 non-null object\n",
      "dtypes: category(2), datetime64[ns, UTC](1), int64(2), object(1)\n",
      "memory usage: 4.0+ MB\n"
     ]
    }
   ],
   "source": [
    "plot_data.info()"
   ]
  },
  {
   "cell_type": "code",
   "execution_count": 44,
   "metadata": {},
   "outputs": [],
   "source": [
    "# Get results with position <= 20\n",
    "plot_data = plot_data.query('result_position <= 20')"
   ]
  },
  {
   "cell_type": "code",
   "execution_count": 45,
   "metadata": {},
   "outputs": [
    {
     "data": {
      "text/html": [
       "<div>\n",
       "<style scoped>\n",
       "    .dataframe tbody tr th:only-of-type {\n",
       "        vertical-align: middle;\n",
       "    }\n",
       "\n",
       "    .dataframe tbody tr th {\n",
       "        vertical-align: top;\n",
       "    }\n",
       "\n",
       "    .dataframe thead th {\n",
       "        text-align: right;\n",
       "    }\n",
       "</style>\n",
       "<table border=\"1\" class=\"dataframe\">\n",
       "  <thead>\n",
       "    <tr style=\"text-align: right;\">\n",
       "      <th></th>\n",
       "      <th>level_1</th>\n",
       "      <th>result_position</th>\n",
       "    </tr>\n",
       "  </thead>\n",
       "  <tbody>\n",
       "    <tr>\n",
       "      <th>count</th>\n",
       "      <td>26386.000000</td>\n",
       "      <td>26386.000000</td>\n",
       "    </tr>\n",
       "    <tr>\n",
       "      <th>mean</th>\n",
       "      <td>200543.075267</td>\n",
       "      <td>2.047184</td>\n",
       "    </tr>\n",
       "    <tr>\n",
       "      <th>std</th>\n",
       "      <td>115624.986431</td>\n",
       "      <td>2.488467</td>\n",
       "    </tr>\n",
       "    <tr>\n",
       "      <th>min</th>\n",
       "      <td>57.000000</td>\n",
       "      <td>1.000000</td>\n",
       "    </tr>\n",
       "    <tr>\n",
       "      <th>25%</th>\n",
       "      <td>100320.500000</td>\n",
       "      <td>1.000000</td>\n",
       "    </tr>\n",
       "    <tr>\n",
       "      <th>50%</th>\n",
       "      <td>201792.000000</td>\n",
       "      <td>1.000000</td>\n",
       "    </tr>\n",
       "    <tr>\n",
       "      <th>75%</th>\n",
       "      <td>300103.500000</td>\n",
       "      <td>2.000000</td>\n",
       "    </tr>\n",
       "    <tr>\n",
       "      <th>max</th>\n",
       "      <td>400141.000000</td>\n",
       "      <td>20.000000</td>\n",
       "    </tr>\n",
       "  </tbody>\n",
       "</table>\n",
       "</div>"
      ],
      "text/plain": [
       "             level_1  result_position\n",
       "count   26386.000000     26386.000000\n",
       "mean   200543.075267         2.047184\n",
       "std    115624.986431         2.488467\n",
       "min        57.000000         1.000000\n",
       "25%    100320.500000         1.000000\n",
       "50%    201792.000000         1.000000\n",
       "75%    300103.500000         2.000000\n",
       "max    400141.000000        20.000000"
      ]
     },
     "execution_count": 45,
     "metadata": {},
     "output_type": "execute_result"
    }
   ],
   "source": [
    "plot_data.describe()"
   ]
  },
  {
   "cell_type": "code",
   "execution_count": 46,
   "metadata": {},
   "outputs": [
    {
     "data": {
      "image/png": "[encoded data removed]",
      "text/plain": [
       "<Figure size 720x360 with 1 Axes>"
      ]
     },
     "metadata": {
      "needs_background": "light"
     },
     "output_type": "display_data"
    }
   ],
   "source": [
    "sb.displot(data=plot_data, x=\"result_position\", kind=\"ecdf\", aspect=2);\n",
    "plt.xticks(np.arange(0,21,1));\n",
    "plt.yticks(np.arange(0,1.05,0.05));"
   ]
  },
  {
   "cell_type": "code",
   "execution_count": 47,
   "metadata": {},
   "outputs": [
    {
     "data": {
      "image/png": "[encoded data removed]",
      "text/plain": [
       "<Figure size 813.875x360 with 1 Axes>"
      ]
     },
     "metadata": {
      "needs_background": "light"
     },
     "output_type": "display_data"
    }
   ],
   "source": [
    "sb.displot(data=plot_data, x=\"result_position\", kind=\"ecdf\", aspect=2, hue=\"day_of_week\");\n",
    "plt.xticks(np.arange(0,21,1));\n",
    "plt.yticks(np.arange(0,1.05,0.05));"
   ]
  },
  {
   "cell_type": "code",
   "execution_count": null,
   "metadata": {},
   "outputs": [],
   "source": []
  },
  {
   "cell_type": "markdown",
   "metadata": {},
   "source": [
    "# Relationship Between Session duration and Clickthrough Event"
   ]
  },
  {
   "cell_type": "code",
   "execution_count": 48,
   "metadata": {},
   "outputs": [],
   "source": [
    "def get_session_duration(timestamp):\n",
    "    return pd.Timedelta(max(timestamp) - min(timestamp)).seconds"
   ]
  },
  {
   "cell_type": "code",
   "execution_count": 49,
   "metadata": {},
   "outputs": [],
   "source": [
    "session_duration_df = df.groupby('session_id')['timestamp'].agg(get_session_duration).reset_index(name=\"session_duration\")"
   ]
  },
  {
   "cell_type": "code",
   "execution_count": 50,
   "metadata": {},
   "outputs": [
    {
     "data": {
      "text/html": [
       "<div>\n",
       "<style scoped>\n",
       "    .dataframe tbody tr th:only-of-type {\n",
       "        vertical-align: middle;\n",
       "    }\n",
       "\n",
       "    .dataframe tbody tr th {\n",
       "        vertical-align: top;\n",
       "    }\n",
       "\n",
       "    .dataframe thead th {\n",
       "        text-align: right;\n",
       "    }\n",
       "</style>\n",
       "<table border=\"1\" class=\"dataframe\">\n",
       "  <thead>\n",
       "    <tr style=\"text-align: right;\">\n",
       "      <th></th>\n",
       "      <th>session_id</th>\n",
       "      <th>session_duration</th>\n",
       "    </tr>\n",
       "  </thead>\n",
       "  <tbody>\n",
       "    <tr>\n",
       "      <th>0</th>\n",
       "      <td>0000cbcb67c19c45</td>\n",
       "      <td>0</td>\n",
       "    </tr>\n",
       "    <tr>\n",
       "      <th>1</th>\n",
       "      <td>0001382e027b2ea4</td>\n",
       "      <td>303</td>\n",
       "    </tr>\n",
       "    <tr>\n",
       "      <th>2</th>\n",
       "      <td>0001e8bb90445cb2</td>\n",
       "      <td>435</td>\n",
       "    </tr>\n",
       "    <tr>\n",
       "      <th>3</th>\n",
       "      <td>000216cf18ae1ab1</td>\n",
       "      <td>58</td>\n",
       "    </tr>\n",
       "    <tr>\n",
       "      <th>4</th>\n",
       "      <td>000527f711d50dfc</td>\n",
       "      <td>0</td>\n",
       "    </tr>\n",
       "  </tbody>\n",
       "</table>\n",
       "</div>"
      ],
      "text/plain": [
       "         session_id  session_duration\n",
       "0  0000cbcb67c19c45                 0\n",
       "1  0001382e027b2ea4               303\n",
       "2  0001e8bb90445cb2               435\n",
       "3  000216cf18ae1ab1                58\n",
       "4  000527f711d50dfc                 0"
      ]
     },
     "execution_count": 50,
     "metadata": {},
     "output_type": "execute_result"
    }
   ],
   "source": [
    "session_duration_df.head()"
   ]
  },
  {
   "cell_type": "code",
   "execution_count": 51,
   "metadata": {},
   "outputs": [
    {
     "data": {
      "text/plain": [
       "(68028, 2)"
      ]
     },
     "execution_count": 51,
     "metadata": {},
     "output_type": "execute_result"
    }
   ],
   "source": [
    "session_duration_df.shape"
   ]
  },
  {
   "cell_type": "code",
   "execution_count": 52,
   "metadata": {},
   "outputs": [],
   "source": [
    "# Group df by session\n",
    "df_session_grouped = df.groupby('session_id')"
   ]
  },
  {
   "cell_type": "code",
   "execution_count": 53,
   "metadata": {},
   "outputs": [],
   "source": [
    "# Compute the Sessions that have click through.\n",
    "clickthrough_sessions = df_session_grouped['action'].apply(lambda x: True if any(x == 'visitPage') else False ).reset_index(name='clickthrough')"
   ]
  },
  {
   "cell_type": "code",
   "execution_count": 54,
   "metadata": {},
   "outputs": [
    {
     "data": {
      "text/plain": [
       "(68028, 2)"
      ]
     },
     "execution_count": 54,
     "metadata": {},
     "output_type": "execute_result"
    }
   ],
   "source": [
    "clickthrough_sessions.shape"
   ]
  },
  {
   "cell_type": "code",
   "execution_count": 55,
   "metadata": {},
   "outputs": [
    {
     "data": {
      "text/html": [
       "<div>\n",
       "<style scoped>\n",
       "    .dataframe tbody tr th:only-of-type {\n",
       "        vertical-align: middle;\n",
       "    }\n",
       "\n",
       "    .dataframe tbody tr th {\n",
       "        vertical-align: top;\n",
       "    }\n",
       "\n",
       "    .dataframe thead th {\n",
       "        text-align: right;\n",
       "    }\n",
       "</style>\n",
       "<table border=\"1\" class=\"dataframe\">\n",
       "  <thead>\n",
       "    <tr style=\"text-align: right;\">\n",
       "      <th></th>\n",
       "      <th>session_id</th>\n",
       "      <th>clickthrough</th>\n",
       "    </tr>\n",
       "  </thead>\n",
       "  <tbody>\n",
       "    <tr>\n",
       "      <th>0</th>\n",
       "      <td>0000cbcb67c19c45</td>\n",
       "      <td>False</td>\n",
       "    </tr>\n",
       "    <tr>\n",
       "      <th>1</th>\n",
       "      <td>0001382e027b2ea4</td>\n",
       "      <td>True</td>\n",
       "    </tr>\n",
       "    <tr>\n",
       "      <th>2</th>\n",
       "      <td>0001e8bb90445cb2</td>\n",
       "      <td>True</td>\n",
       "    </tr>\n",
       "    <tr>\n",
       "      <th>3</th>\n",
       "      <td>000216cf18ae1ab1</td>\n",
       "      <td>False</td>\n",
       "    </tr>\n",
       "    <tr>\n",
       "      <th>4</th>\n",
       "      <td>000527f711d50dfc</td>\n",
       "      <td>False</td>\n",
       "    </tr>\n",
       "  </tbody>\n",
       "</table>\n",
       "</div>"
      ],
      "text/plain": [
       "         session_id  clickthrough\n",
       "0  0000cbcb67c19c45         False\n",
       "1  0001382e027b2ea4          True\n",
       "2  0001e8bb90445cb2          True\n",
       "3  000216cf18ae1ab1         False\n",
       "4  000527f711d50dfc         False"
      ]
     },
     "execution_count": 55,
     "metadata": {},
     "output_type": "execute_result"
    }
   ],
   "source": [
    "clickthrough_sessions.head()"
   ]
  },
  {
   "cell_type": "code",
   "execution_count": 56,
   "metadata": {},
   "outputs": [
    {
     "data": {
      "text/plain": [
       "(68028, 3)"
      ]
     },
     "execution_count": 56,
     "metadata": {},
     "output_type": "execute_result"
    }
   ],
   "source": [
    "clickthrough_session_duration = pd.merge(session_duration_df, clickthrough_sessions, on=\"session_id\")\n",
    "clickthrough_session_duration.shape"
   ]
  },
  {
   "cell_type": "code",
   "execution_count": 57,
   "metadata": {},
   "outputs": [
    {
     "data": {
      "text/html": [
       "<div>\n",
       "<style scoped>\n",
       "    .dataframe tbody tr th:only-of-type {\n",
       "        vertical-align: middle;\n",
       "    }\n",
       "\n",
       "    .dataframe tbody tr th {\n",
       "        vertical-align: top;\n",
       "    }\n",
       "\n",
       "    .dataframe thead th {\n",
       "        text-align: right;\n",
       "    }\n",
       "</style>\n",
       "<table border=\"1\" class=\"dataframe\">\n",
       "  <thead>\n",
       "    <tr style=\"text-align: right;\">\n",
       "      <th></th>\n",
       "      <th>session_id</th>\n",
       "      <th>session_duration</th>\n",
       "      <th>clickthrough</th>\n",
       "    </tr>\n",
       "  </thead>\n",
       "  <tbody>\n",
       "    <tr>\n",
       "      <th>0</th>\n",
       "      <td>0000cbcb67c19c45</td>\n",
       "      <td>0</td>\n",
       "      <td>False</td>\n",
       "    </tr>\n",
       "    <tr>\n",
       "      <th>1</th>\n",
       "      <td>0001382e027b2ea4</td>\n",
       "      <td>303</td>\n",
       "      <td>True</td>\n",
       "    </tr>\n",
       "    <tr>\n",
       "      <th>2</th>\n",
       "      <td>0001e8bb90445cb2</td>\n",
       "      <td>435</td>\n",
       "      <td>True</td>\n",
       "    </tr>\n",
       "    <tr>\n",
       "      <th>3</th>\n",
       "      <td>000216cf18ae1ab1</td>\n",
       "      <td>58</td>\n",
       "      <td>False</td>\n",
       "    </tr>\n",
       "    <tr>\n",
       "      <th>4</th>\n",
       "      <td>000527f711d50dfc</td>\n",
       "      <td>0</td>\n",
       "      <td>False</td>\n",
       "    </tr>\n",
       "  </tbody>\n",
       "</table>\n",
       "</div>"
      ],
      "text/plain": [
       "         session_id  session_duration  clickthrough\n",
       "0  0000cbcb67c19c45                 0         False\n",
       "1  0001382e027b2ea4               303          True\n",
       "2  0001e8bb90445cb2               435          True\n",
       "3  000216cf18ae1ab1                58         False\n",
       "4  000527f711d50dfc                 0         False"
      ]
     },
     "execution_count": 57,
     "metadata": {},
     "output_type": "execute_result"
    }
   ],
   "source": [
    "clickthrough_session_duration.head()"
   ]
  },
  {
   "cell_type": "code",
   "execution_count": 58,
   "metadata": {},
   "outputs": [
    {
     "name": "stdout",
     "output_type": "stream",
     "text": [
      "<class 'pandas.core.frame.DataFrame'>\n",
      "Int64Index: 68028 entries, 0 to 68027\n",
      "Data columns (total 3 columns):\n",
      "session_id          68028 non-null category\n",
      "session_duration    68028 non-null int64\n",
      "clickthrough        68028 non-null bool\n",
      "dtypes: bool(1), category(1), int64(1)\n",
      "memory usage: 4.4 MB\n"
     ]
    }
   ],
   "source": [
    "clickthrough_session_duration.info()"
   ]
  },
  {
   "cell_type": "code",
   "execution_count": 59,
   "metadata": {},
   "outputs": [
    {
     "data": {
      "text/html": [
       "<div>\n",
       "<style scoped>\n",
       "    .dataframe tbody tr th:only-of-type {\n",
       "        vertical-align: middle;\n",
       "    }\n",
       "\n",
       "    .dataframe tbody tr th {\n",
       "        vertical-align: top;\n",
       "    }\n",
       "\n",
       "    .dataframe thead th {\n",
       "        text-align: right;\n",
       "    }\n",
       "</style>\n",
       "<table border=\"1\" class=\"dataframe\">\n",
       "  <thead>\n",
       "    <tr style=\"text-align: right;\">\n",
       "      <th></th>\n",
       "      <th>session_duration</th>\n",
       "    </tr>\n",
       "  </thead>\n",
       "  <tbody>\n",
       "    <tr>\n",
       "      <th>count</th>\n",
       "      <td>68028.000000</td>\n",
       "    </tr>\n",
       "    <tr>\n",
       "      <th>mean</th>\n",
       "      <td>145.911419</td>\n",
       "    </tr>\n",
       "    <tr>\n",
       "      <th>std</th>\n",
       "      <td>955.902202</td>\n",
       "    </tr>\n",
       "    <tr>\n",
       "      <th>min</th>\n",
       "      <td>0.000000</td>\n",
       "    </tr>\n",
       "    <tr>\n",
       "      <th>25%</th>\n",
       "      <td>0.000000</td>\n",
       "    </tr>\n",
       "    <tr>\n",
       "      <th>50%</th>\n",
       "      <td>15.000000</td>\n",
       "    </tr>\n",
       "    <tr>\n",
       "      <th>75%</th>\n",
       "      <td>138.000000</td>\n",
       "    </tr>\n",
       "    <tr>\n",
       "      <th>max</th>\n",
       "      <td>80293.000000</td>\n",
       "    </tr>\n",
       "  </tbody>\n",
       "</table>\n",
       "</div>"
      ],
      "text/plain": [
       "       session_duration\n",
       "count      68028.000000\n",
       "mean         145.911419\n",
       "std          955.902202\n",
       "min            0.000000\n",
       "25%            0.000000\n",
       "50%           15.000000\n",
       "75%          138.000000\n",
       "max        80293.000000"
      ]
     },
     "execution_count": 59,
     "metadata": {},
     "output_type": "execute_result"
    }
   ],
   "source": [
    "clickthrough_session_duration.describe()"
   ]
  },
  {
   "cell_type": "code",
   "execution_count": 60,
   "metadata": {},
   "outputs": [],
   "source": [
    "clickthrough_session_duration['clickthrough'] = clickthrough_session_duration['clickthrough'].replace({True: 'Yes', False: 'No'}).astype('category')"
   ]
  },
  {
   "cell_type": "code",
   "execution_count": 61,
   "metadata": {},
   "outputs": [
    {
     "data": {
      "text/html": [
       "<div>\n",
       "<style scoped>\n",
       "    .dataframe tbody tr th:only-of-type {\n",
       "        vertical-align: middle;\n",
       "    }\n",
       "\n",
       "    .dataframe tbody tr th {\n",
       "        vertical-align: top;\n",
       "    }\n",
       "\n",
       "    .dataframe thead th {\n",
       "        text-align: right;\n",
       "    }\n",
       "</style>\n",
       "<table border=\"1\" class=\"dataframe\">\n",
       "  <thead>\n",
       "    <tr style=\"text-align: right;\">\n",
       "      <th></th>\n",
       "      <th>session_id</th>\n",
       "      <th>session_duration</th>\n",
       "      <th>clickthrough</th>\n",
       "    </tr>\n",
       "  </thead>\n",
       "  <tbody>\n",
       "    <tr>\n",
       "      <th>0</th>\n",
       "      <td>0000cbcb67c19c45</td>\n",
       "      <td>0</td>\n",
       "      <td>No</td>\n",
       "    </tr>\n",
       "    <tr>\n",
       "      <th>1</th>\n",
       "      <td>0001382e027b2ea4</td>\n",
       "      <td>303</td>\n",
       "      <td>Yes</td>\n",
       "    </tr>\n",
       "    <tr>\n",
       "      <th>2</th>\n",
       "      <td>0001e8bb90445cb2</td>\n",
       "      <td>435</td>\n",
       "      <td>Yes</td>\n",
       "    </tr>\n",
       "    <tr>\n",
       "      <th>3</th>\n",
       "      <td>000216cf18ae1ab1</td>\n",
       "      <td>58</td>\n",
       "      <td>No</td>\n",
       "    </tr>\n",
       "    <tr>\n",
       "      <th>4</th>\n",
       "      <td>000527f711d50dfc</td>\n",
       "      <td>0</td>\n",
       "      <td>No</td>\n",
       "    </tr>\n",
       "  </tbody>\n",
       "</table>\n",
       "</div>"
      ],
      "text/plain": [
       "         session_id  session_duration clickthrough\n",
       "0  0000cbcb67c19c45                 0           No\n",
       "1  0001382e027b2ea4               303          Yes\n",
       "2  0001e8bb90445cb2               435          Yes\n",
       "3  000216cf18ae1ab1                58           No\n",
       "4  000527f711d50dfc                 0           No"
      ]
     },
     "execution_count": 61,
     "metadata": {},
     "output_type": "execute_result"
    }
   ],
   "source": [
    "clickthrough_session_duration.head()"
   ]
  },
  {
   "cell_type": "code",
   "execution_count": 62,
   "metadata": {},
   "outputs": [
    {
     "name": "stdout",
     "output_type": "stream",
     "text": [
      "<class 'pandas.core.frame.DataFrame'>\n",
      "Int64Index: 68028 entries, 0 to 68027\n",
      "Data columns (total 3 columns):\n",
      "session_id          68028 non-null category\n",
      "session_duration    68028 non-null int64\n",
      "clickthrough        68028 non-null category\n",
      "dtypes: category(2), int64(1)\n",
      "memory usage: 4.4 MB\n"
     ]
    }
   ],
   "source": [
    "clickthrough_session_duration.info()"
   ]
  },
  {
   "cell_type": "code",
   "execution_count": 63,
   "metadata": {},
   "outputs": [
    {
     "data": {
      "image/png": "[encoded data removed]",
      "text/plain": [
       "<Figure size 789.75x360 with 1 Axes>"
      ]
     },
     "metadata": {
      "needs_background": "light"
     },
     "output_type": "display_data"
    }
   ],
   "source": [
    "# Plot ECDF for session duration <= 2 minutes == 120s\n",
    "two_minute_session = clickthrough_session_duration.query('session_duration <= 120')\n",
    "sb.displot(data=two_minute_session, x=\"session_duration\", kind=\"ecdf\", hue=\"clickthrough\", aspect=2);\n",
    "plt.xticks(np.arange(0,125,5));\n",
    "plt.yticks(np.arange(0,1.05,0.05));"
   ]
  },
  {
   "cell_type": "code",
   "execution_count": 64,
   "metadata": {},
   "outputs": [
    {
     "data": {
      "image/png": "[encoded data removed]",
      "text/plain": [
       "<Figure size 432x288 with 1 Axes>"
      ]
     },
     "metadata": {
      "needs_background": "light"
     },
     "output_type": "display_data"
    }
   ],
   "source": [
    "# Session Duration per Clickthrough or Not\n",
    "sb.boxplot(x=\"clickthrough\", y=\"session_duration\", data=two_minute_session);"
   ]
  }
 ],
 "metadata": {
  "kernelspec": {
   "display_name": "azure-ml",
   "language": "python",
   "name": "azure-ml"
  },
  "language_info": {
   "codemirror_mode": {
    "name": "ipython",
    "version": 3
   },
   "file_extension": ".py",
   "mimetype": "text/x-python",
   "name": "python",
   "nbconvert_exporter": "python",
   "pygments_lexer": "ipython3",
   "version": "3.6.9"
  }
 },
 "nbformat": 4,
 "nbformat_minor": 4
}
