{
 "cells": [
  {
   "cell_type": "code",
   "execution_count": 1,
   "metadata": {},
   "outputs": [],
   "source": [
    "# import packages\n",
    "\n",
    "import pandas as pd\n",
    "import numpy as np\n",
    "import seaborn as sb\n",
    "import matplotlib.pyplot as plt"
   ]
  },
  {
   "cell_type": "code",
   "execution_count": 2,
   "metadata": {},
   "outputs": [],
   "source": [
    "df = pd.read_csv('events_log.csv')"
   ]
  },
  {
   "cell_type": "code",
   "execution_count": 3,
   "metadata": {},
   "outputs": [
    {
     "data": {
      "text/plain": [
       "(400165, 9)"
      ]
     },
     "execution_count": 3,
     "metadata": {},
     "output_type": "execute_result"
    }
   ],
   "source": [
    "df.shape"
   ]
  },
  {
   "cell_type": "code",
   "execution_count": 4,
   "metadata": {},
   "outputs": [
    {
     "name": "stdout",
     "output_type": "stream",
     "text": [
      "<class 'pandas.core.frame.DataFrame'>\n",
      "RangeIndex: 400165 entries, 0 to 400164\n",
      "Data columns (total 9 columns):\n",
      "uuid               400165 non-null object\n",
      "timestamp          400165 non-null float64\n",
      "session_id         400165 non-null object\n",
      "group              400165 non-null object\n",
      "action             400165 non-null object\n",
      "checkin            223824 non-null float64\n",
      "page_id            400165 non-null object\n",
      "n_results          136234 non-null float64\n",
      "result_position    230482 non-null float64\n",
      "dtypes: float64(4), object(5)\n",
      "memory usage: 27.5+ MB\n"
     ]
    }
   ],
   "source": [
    "df.info()"
   ]
  },
  {
   "cell_type": "code",
   "execution_count": 5,
   "metadata": {},
   "outputs": [
    {
     "data": {
      "text/html": [
       "<div>\n",
       "<style scoped>\n",
       "    .dataframe tbody tr th:only-of-type {\n",
       "        vertical-align: middle;\n",
       "    }\n",
       "\n",
       "    .dataframe tbody tr th {\n",
       "        vertical-align: top;\n",
       "    }\n",
       "\n",
       "    .dataframe thead th {\n",
       "        text-align: right;\n",
       "    }\n",
       "</style>\n",
       "<table border=\"1\" class=\"dataframe\">\n",
       "  <thead>\n",
       "    <tr style=\"text-align: right;\">\n",
       "      <th></th>\n",
       "      <th>timestamp</th>\n",
       "      <th>checkin</th>\n",
       "      <th>n_results</th>\n",
       "      <th>result_position</th>\n",
       "    </tr>\n",
       "  </thead>\n",
       "  <tbody>\n",
       "    <tr>\n",
       "      <th>count</th>\n",
       "      <td>4.001650e+05</td>\n",
       "      <td>223824.000000</td>\n",
       "      <td>136234.000000</td>\n",
       "      <td>230482.000000</td>\n",
       "    </tr>\n",
       "    <tr>\n",
       "      <th>mean</th>\n",
       "      <td>2.016030e+13</td>\n",
       "      <td>97.190382</td>\n",
       "      <td>13.210109</td>\n",
       "      <td>2.992798</td>\n",
       "    </tr>\n",
       "    <tr>\n",
       "      <th>std</th>\n",
       "      <td>2.340996e+06</td>\n",
       "      <td>104.593714</td>\n",
       "      <td>13.271104</td>\n",
       "      <td>38.557292</td>\n",
       "    </tr>\n",
       "    <tr>\n",
       "      <th>min</th>\n",
       "      <td>2.016030e+13</td>\n",
       "      <td>10.000000</td>\n",
       "      <td>0.000000</td>\n",
       "      <td>1.000000</td>\n",
       "    </tr>\n",
       "    <tr>\n",
       "      <th>25%</th>\n",
       "      <td>2.016030e+13</td>\n",
       "      <td>20.000000</td>\n",
       "      <td>2.000000</td>\n",
       "      <td>1.000000</td>\n",
       "    </tr>\n",
       "    <tr>\n",
       "      <th>50%</th>\n",
       "      <td>2.016030e+13</td>\n",
       "      <td>50.000000</td>\n",
       "      <td>20.000000</td>\n",
       "      <td>1.000000</td>\n",
       "    </tr>\n",
       "    <tr>\n",
       "      <th>75%</th>\n",
       "      <td>2.016031e+13</td>\n",
       "      <td>150.000000</td>\n",
       "      <td>20.000000</td>\n",
       "      <td>2.000000</td>\n",
       "    </tr>\n",
       "    <tr>\n",
       "      <th>max</th>\n",
       "      <td>2.016031e+13</td>\n",
       "      <td>420.000000</td>\n",
       "      <td>500.000000</td>\n",
       "      <td>4103.000000</td>\n",
       "    </tr>\n",
       "  </tbody>\n",
       "</table>\n",
       "</div>"
      ],
      "text/plain": [
       "          timestamp        checkin      n_results  result_position\n",
       "count  4.001650e+05  223824.000000  136234.000000    230482.000000\n",
       "mean   2.016030e+13      97.190382      13.210109         2.992798\n",
       "std    2.340996e+06     104.593714      13.271104        38.557292\n",
       "min    2.016030e+13      10.000000       0.000000         1.000000\n",
       "25%    2.016030e+13      20.000000       2.000000         1.000000\n",
       "50%    2.016030e+13      50.000000      20.000000         1.000000\n",
       "75%    2.016031e+13     150.000000      20.000000         2.000000\n",
       "max    2.016031e+13     420.000000     500.000000      4103.000000"
      ]
     },
     "execution_count": 5,
     "metadata": {},
     "output_type": "execute_result"
    }
   ],
   "source": [
    "df.describe()"
   ]
  },
  {
   "cell_type": "code",
   "execution_count": 6,
   "metadata": {},
   "outputs": [
    {
     "data": {
      "text/html": [
       "<div>\n",
       "<style scoped>\n",
       "    .dataframe tbody tr th:only-of-type {\n",
       "        vertical-align: middle;\n",
       "    }\n",
       "\n",
       "    .dataframe tbody tr th {\n",
       "        vertical-align: top;\n",
       "    }\n",
       "\n",
       "    .dataframe thead th {\n",
       "        text-align: right;\n",
       "    }\n",
       "</style>\n",
       "<table border=\"1\" class=\"dataframe\">\n",
       "  <thead>\n",
       "    <tr style=\"text-align: right;\">\n",
       "      <th></th>\n",
       "      <th>uuid</th>\n",
       "      <th>timestamp</th>\n",
       "      <th>session_id</th>\n",
       "      <th>group</th>\n",
       "      <th>action</th>\n",
       "      <th>checkin</th>\n",
       "      <th>page_id</th>\n",
       "      <th>n_results</th>\n",
       "      <th>result_position</th>\n",
       "    </tr>\n",
       "  </thead>\n",
       "  <tbody>\n",
       "  </tbody>\n",
       "</table>\n",
       "</div>"
      ],
      "text/plain": [
       "Empty DataFrame\n",
       "Columns: [uuid, timestamp, session_id, group, action, checkin, page_id, n_results, result_position]\n",
       "Index: []"
      ]
     },
     "execution_count": 6,
     "metadata": {},
     "output_type": "execute_result"
    }
   ],
   "source": [
    "# Find duplicates\n",
    "df[df.duplicated()]"
   ]
  },
  {
   "cell_type": "code",
   "execution_count": 7,
   "metadata": {},
   "outputs": [],
   "source": [
    "# Convert timestamp to datetime\n",
    "df.timestamp =  pd.to_datetime(df.timestamp.astype('int64'), format='%Y%m%d%H%M%S', utc=True)"
   ]
  },
  {
   "cell_type": "code",
   "execution_count": 8,
   "metadata": {},
   "outputs": [],
   "source": [
    "# Convert action and group to Category\n",
    "df.action = df.action.astype('category')\n",
    "df.group = df.group.astype('category')"
   ]
  },
  {
   "cell_type": "code",
   "execution_count": 9,
   "metadata": {},
   "outputs": [],
   "source": [
    "# Convert session_id to categorical\n",
    "df.session_id = df.session_id.astype('category')\n",
    "df.page_id = df.page_id.astype('category')"
   ]
  },
  {
   "cell_type": "code",
   "execution_count": 10,
   "metadata": {},
   "outputs": [],
   "source": [
    "# Daily Click Through Rate\n",
    "df['day_of_week'] = df.timestamp.dt.day_name()"
   ]
  },
  {
   "cell_type": "code",
   "execution_count": 11,
   "metadata": {},
   "outputs": [],
   "source": [
    "df['time'] = df.timestamp.dt.time"
   ]
  },
  {
   "cell_type": "code",
   "execution_count": 12,
   "metadata": {},
   "outputs": [],
   "source": [
    "df['week'] = df.timestamp.dt.week"
   ]
  },
  {
   "cell_type": "code",
   "execution_count": 13,
   "metadata": {},
   "outputs": [],
   "source": [
    "# Create Ordered Category for the Days\n",
    "cat_type = pd.api.types.CategoricalDtype(categories=[\"Monday\", \"Tuesday\", \"Wednesday\", \"Thursday\", \"Friday\", \"Saturday\", \"Sunday\"], ordered=True)"
   ]
  },
  {
   "cell_type": "code",
   "execution_count": 14,
   "metadata": {},
   "outputs": [],
   "source": [
    "# Change Day of Week to Categorical Type\n",
    "df['day_of_week'] = df.day_of_week.astype(cat_type)"
   ]
  },
  {
   "cell_type": "code",
   "execution_count": 15,
   "metadata": {},
   "outputs": [],
   "source": [
    "df['date'] = df.timestamp.dt.date"
   ]
  },
  {
   "cell_type": "code",
   "execution_count": 16,
   "metadata": {},
   "outputs": [],
   "source": [
    "def get_session_duration(timestamp):\n",
    "    return pd.Timedelta(max(timestamp) - min(timestamp)).seconds"
   ]
  },
  {
   "cell_type": "code",
   "execution_count": 17,
   "metadata": {},
   "outputs": [],
   "source": [
    "session_duration_df = df.groupby('session_id')['timestamp'].agg(get_session_duration).reset_index(name=\"session_duration\")"
   ]
  },
  {
   "cell_type": "code",
   "execution_count": 18,
   "metadata": {},
   "outputs": [
    {
     "name": "stdout",
     "output_type": "stream",
     "text": [
      "<class 'pandas.core.frame.DataFrame'>\n",
      "RangeIndex: 68028 entries, 0 to 68027\n",
      "Data columns (total 2 columns):\n",
      "session_id          68028 non-null category\n",
      "session_duration    68028 non-null int64\n",
      "dtypes: category(1), int64(1)\n",
      "memory usage: 3.8 MB\n"
     ]
    }
   ],
   "source": [
    "session_duration_df.info()"
   ]
  },
  {
   "cell_type": "code",
   "execution_count": 19,
   "metadata": {},
   "outputs": [
    {
     "name": "stdout",
     "output_type": "stream",
     "text": [
      "<class 'pandas.core.frame.DataFrame'>\n",
      "RangeIndex: 400165 entries, 0 to 400164\n",
      "Data columns (total 13 columns):\n",
      "uuid               400165 non-null object\n",
      "timestamp          400165 non-null datetime64[ns, UTC]\n",
      "session_id         400165 non-null category\n",
      "group              400165 non-null category\n",
      "action             400165 non-null category\n",
      "checkin            223824 non-null float64\n",
      "page_id            400165 non-null category\n",
      "n_results          136234 non-null float64\n",
      "result_position    230482 non-null float64\n",
      "day_of_week        400165 non-null category\n",
      "time               400165 non-null object\n",
      "week               400165 non-null int64\n",
      "date               400165 non-null object\n",
      "dtypes: category(5), datetime64[ns, UTC](1), float64(3), int64(1), object(3)\n",
      "memory usage: 38.0+ MB\n"
     ]
    }
   ],
   "source": [
    "df.info()"
   ]
  },
  {
   "cell_type": "code",
   "execution_count": 20,
   "metadata": {},
   "outputs": [],
   "source": [
    "df = df.merge(session_duration_df, on=\"session_id\")"
   ]
  },
  {
   "cell_type": "code",
   "execution_count": 21,
   "metadata": {},
   "outputs": [
    {
     "data": {
      "text/html": [
       "<div>\n",
       "<style scoped>\n",
       "    .dataframe tbody tr th:only-of-type {\n",
       "        vertical-align: middle;\n",
       "    }\n",
       "\n",
       "    .dataframe tbody tr th {\n",
       "        vertical-align: top;\n",
       "    }\n",
       "\n",
       "    .dataframe thead th {\n",
       "        text-align: right;\n",
       "    }\n",
       "</style>\n",
       "<table border=\"1\" class=\"dataframe\">\n",
       "  <thead>\n",
       "    <tr style=\"text-align: right;\">\n",
       "      <th></th>\n",
       "      <th>uuid</th>\n",
       "      <th>timestamp</th>\n",
       "      <th>session_id</th>\n",
       "      <th>group</th>\n",
       "      <th>action</th>\n",
       "      <th>checkin</th>\n",
       "      <th>page_id</th>\n",
       "      <th>n_results</th>\n",
       "      <th>result_position</th>\n",
       "      <th>day_of_week</th>\n",
       "      <th>time</th>\n",
       "      <th>week</th>\n",
       "      <th>date</th>\n",
       "      <th>session_duration</th>\n",
       "    </tr>\n",
       "  </thead>\n",
       "  <tbody>\n",
       "    <tr>\n",
       "      <th>0</th>\n",
       "      <td>00000736167c507e8ec225bd9e71f9e5</td>\n",
       "      <td>2016-03-01 10:38:42+00:00</td>\n",
       "      <td>78245c2c3fba013a</td>\n",
       "      <td>b</td>\n",
       "      <td>searchResultPage</td>\n",
       "      <td>NaN</td>\n",
       "      <td>cbeb66d1bc1f1bc2</td>\n",
       "      <td>5.0</td>\n",
       "      <td>NaN</td>\n",
       "      <td>Tuesday</td>\n",
       "      <td>10:38:42</td>\n",
       "      <td>9</td>\n",
       "      <td>2016-03-01</td>\n",
       "      <td>44</td>\n",
       "    </tr>\n",
       "    <tr>\n",
       "      <th>1</th>\n",
       "      <td>004690364c695f04b5d045913e1bdf7c</td>\n",
       "      <td>2016-03-01 10:39:16+00:00</td>\n",
       "      <td>78245c2c3fba013a</td>\n",
       "      <td>b</td>\n",
       "      <td>checkin</td>\n",
       "      <td>30.0</td>\n",
       "      <td>2f0e04bd56649f43</td>\n",
       "      <td>NaN</td>\n",
       "      <td>3.0</td>\n",
       "      <td>Tuesday</td>\n",
       "      <td>10:39:16</td>\n",
       "      <td>9</td>\n",
       "      <td>2016-03-01</td>\n",
       "      <td>44</td>\n",
       "    </tr>\n",
       "    <tr>\n",
       "      <th>2</th>\n",
       "      <td>0af62216356759fea26313e155f70809</td>\n",
       "      <td>2016-03-01 10:39:26+00:00</td>\n",
       "      <td>78245c2c3fba013a</td>\n",
       "      <td>b</td>\n",
       "      <td>checkin</td>\n",
       "      <td>40.0</td>\n",
       "      <td>2f0e04bd56649f43</td>\n",
       "      <td>NaN</td>\n",
       "      <td>3.0</td>\n",
       "      <td>Tuesday</td>\n",
       "      <td>10:39:26</td>\n",
       "      <td>9</td>\n",
       "      <td>2016-03-01</td>\n",
       "      <td>44</td>\n",
       "    </tr>\n",
       "    <tr>\n",
       "      <th>3</th>\n",
       "      <td>14601aeb2bf058af9380c1644e606e24</td>\n",
       "      <td>2016-03-01 10:39:06+00:00</td>\n",
       "      <td>78245c2c3fba013a</td>\n",
       "      <td>b</td>\n",
       "      <td>checkin</td>\n",
       "      <td>20.0</td>\n",
       "      <td>2f0e04bd56649f43</td>\n",
       "      <td>NaN</td>\n",
       "      <td>3.0</td>\n",
       "      <td>Tuesday</td>\n",
       "      <td>10:39:06</td>\n",
       "      <td>9</td>\n",
       "      <td>2016-03-01</td>\n",
       "      <td>44</td>\n",
       "    </tr>\n",
       "    <tr>\n",
       "      <th>4</th>\n",
       "      <td>33922e14b6bb5e27823481a3c44ed462</td>\n",
       "      <td>2016-03-01 10:38:56+00:00</td>\n",
       "      <td>78245c2c3fba013a</td>\n",
       "      <td>b</td>\n",
       "      <td>checkin</td>\n",
       "      <td>10.0</td>\n",
       "      <td>2f0e04bd56649f43</td>\n",
       "      <td>NaN</td>\n",
       "      <td>3.0</td>\n",
       "      <td>Tuesday</td>\n",
       "      <td>10:38:56</td>\n",
       "      <td>9</td>\n",
       "      <td>2016-03-01</td>\n",
       "      <td>44</td>\n",
       "    </tr>\n",
       "  </tbody>\n",
       "</table>\n",
       "</div>"
      ],
      "text/plain": [
       "                               uuid                 timestamp  \\\n",
       "0  00000736167c507e8ec225bd9e71f9e5 2016-03-01 10:38:42+00:00   \n",
       "1  004690364c695f04b5d045913e1bdf7c 2016-03-01 10:39:16+00:00   \n",
       "2  0af62216356759fea26313e155f70809 2016-03-01 10:39:26+00:00   \n",
       "3  14601aeb2bf058af9380c1644e606e24 2016-03-01 10:39:06+00:00   \n",
       "4  33922e14b6bb5e27823481a3c44ed462 2016-03-01 10:38:56+00:00   \n",
       "\n",
       "         session_id group            action  checkin           page_id  \\\n",
       "0  78245c2c3fba013a     b  searchResultPage      NaN  cbeb66d1bc1f1bc2   \n",
       "1  78245c2c3fba013a     b           checkin     30.0  2f0e04bd56649f43   \n",
       "2  78245c2c3fba013a     b           checkin     40.0  2f0e04bd56649f43   \n",
       "3  78245c2c3fba013a     b           checkin     20.0  2f0e04bd56649f43   \n",
       "4  78245c2c3fba013a     b           checkin     10.0  2f0e04bd56649f43   \n",
       "\n",
       "   n_results  result_position day_of_week      time  week        date  \\\n",
       "0        5.0              NaN     Tuesday  10:38:42     9  2016-03-01   \n",
       "1        NaN              3.0     Tuesday  10:39:16     9  2016-03-01   \n",
       "2        NaN              3.0     Tuesday  10:39:26     9  2016-03-01   \n",
       "3        NaN              3.0     Tuesday  10:39:06     9  2016-03-01   \n",
       "4        NaN              3.0     Tuesday  10:38:56     9  2016-03-01   \n",
       "\n",
       "   session_duration  \n",
       "0                44  \n",
       "1                44  \n",
       "2                44  \n",
       "3                44  \n",
       "4                44  "
      ]
     },
     "execution_count": 21,
     "metadata": {},
     "output_type": "execute_result"
    }
   ],
   "source": [
    "df.head()"
   ]
  },
  {
   "cell_type": "markdown",
   "metadata": {},
   "source": [
    "### Computing and Visualizing the Daily Clickthrough Rate\n",
    "\n",
    "For a given session we find the number of `action = 'visitPage'`  and divide by the total actions."
   ]
  },
  {
   "cell_type": "code",
   "execution_count": 22,
   "metadata": {},
   "outputs": [],
   "source": [
    "default_colour = sb.color_palette()[0]"
   ]
  },
  {
   "cell_type": "code",
   "execution_count": 23,
   "metadata": {},
   "outputs": [],
   "source": [
    "def is_clicked_link(action):\n",
    "     return any(action == 'visitPage')"
   ]
  },
  {
   "cell_type": "code",
   "execution_count": 24,
   "metadata": {},
   "outputs": [
    {
     "name": "stdout",
     "output_type": "stream",
     "text": [
      "0.3888398894572823\n"
     ]
    }
   ],
   "source": [
    "# overall clickthrough rate\n",
    "overall_clickthrough_rate =  df.groupby('session_id')['action'].agg(is_clicked_link).mean()\n",
    "print(overall_clickthrough_rate)"
   ]
  },
  {
   "cell_type": "code",
   "execution_count": 25,
   "metadata": {},
   "outputs": [],
   "source": [
    "clickthrough_df = df.groupby(['date','day_of_week','session_id', 'group'])['action'].agg(is_clicked_link).reset_index(name='is_clicked_link')"
   ]
  },
  {
   "cell_type": "code",
   "execution_count": 26,
   "metadata": {},
   "outputs": [],
   "source": [
    "clickthrough_df['group'] = clickthrough_df.group.astype('category')\n",
    "clickthrough_df['session_id'] = clickthrough_df.session_id.astype('category')\n",
    "clickthrough_df['day_of_week'] = clickthrough_df.day_of_week.astype(cat_type)"
   ]
  },
  {
   "cell_type": "code",
   "execution_count": 27,
   "metadata": {},
   "outputs": [
    {
     "name": "stdout",
     "output_type": "stream",
     "text": [
      "<class 'pandas.core.frame.DataFrame'>\n",
      "RangeIndex: 68111 entries, 0 to 68110\n",
      "Data columns (total 5 columns):\n",
      "date               68111 non-null datetime64[ns]\n",
      "day_of_week        68111 non-null category\n",
      "session_id         68111 non-null category\n",
      "group              68111 non-null category\n",
      "is_clicked_link    68111 non-null bool\n",
      "dtypes: bool(1), category(3), datetime64[ns](1)\n",
      "memory usage: 4.0 MB\n"
     ]
    }
   ],
   "source": [
    "clickthrough_df.info()"
   ]
  },
  {
   "cell_type": "code",
   "execution_count": 28,
   "metadata": {},
   "outputs": [
    {
     "data": {
      "text/html": [
       "<div>\n",
       "<style scoped>\n",
       "    .dataframe tbody tr th:only-of-type {\n",
       "        vertical-align: middle;\n",
       "    }\n",
       "\n",
       "    .dataframe tbody tr th {\n",
       "        vertical-align: top;\n",
       "    }\n",
       "\n",
       "    .dataframe thead th {\n",
       "        text-align: right;\n",
       "    }\n",
       "</style>\n",
       "<table border=\"1\" class=\"dataframe\">\n",
       "  <thead>\n",
       "    <tr style=\"text-align: right;\">\n",
       "      <th></th>\n",
       "      <th>date</th>\n",
       "      <th>day_of_week</th>\n",
       "      <th>session_id</th>\n",
       "      <th>group</th>\n",
       "      <th>is_clicked_link</th>\n",
       "    </tr>\n",
       "  </thead>\n",
       "  <tbody>\n",
       "    <tr>\n",
       "      <th>0</th>\n",
       "      <td>2016-03-01</td>\n",
       "      <td>Tuesday</td>\n",
       "      <td>000936ae06d62383</td>\n",
       "      <td>b</td>\n",
       "      <td>False</td>\n",
       "    </tr>\n",
       "    <tr>\n",
       "      <th>1</th>\n",
       "      <td>2016-03-01</td>\n",
       "      <td>Tuesday</td>\n",
       "      <td>001544bc03fac3e8</td>\n",
       "      <td>b</td>\n",
       "      <td>False</td>\n",
       "    </tr>\n",
       "    <tr>\n",
       "      <th>2</th>\n",
       "      <td>2016-03-01</td>\n",
       "      <td>Tuesday</td>\n",
       "      <td>001a3950cd4ac6c6</td>\n",
       "      <td>a</td>\n",
       "      <td>False</td>\n",
       "    </tr>\n",
       "    <tr>\n",
       "      <th>3</th>\n",
       "      <td>2016-03-01</td>\n",
       "      <td>Tuesday</td>\n",
       "      <td>001e2d0e159172d2</td>\n",
       "      <td>b</td>\n",
       "      <td>True</td>\n",
       "    </tr>\n",
       "    <tr>\n",
       "      <th>4</th>\n",
       "      <td>2016-03-01</td>\n",
       "      <td>Tuesday</td>\n",
       "      <td>0022bba0634595b9</td>\n",
       "      <td>b</td>\n",
       "      <td>False</td>\n",
       "    </tr>\n",
       "  </tbody>\n",
       "</table>\n",
       "</div>"
      ],
      "text/plain": [
       "        date day_of_week        session_id group  is_clicked_link\n",
       "0 2016-03-01     Tuesday  000936ae06d62383     b            False\n",
       "1 2016-03-01     Tuesday  001544bc03fac3e8     b            False\n",
       "2 2016-03-01     Tuesday  001a3950cd4ac6c6     a            False\n",
       "3 2016-03-01     Tuesday  001e2d0e159172d2     b             True\n",
       "4 2016-03-01     Tuesday  0022bba0634595b9     b            False"
      ]
     },
     "execution_count": 28,
     "metadata": {},
     "output_type": "execute_result"
    }
   ],
   "source": [
    "clickthrough_df.head()"
   ]
  },
  {
   "cell_type": "code",
   "execution_count": 29,
   "metadata": {},
   "outputs": [
    {
     "data": {
      "image/png": "[encoded data removed]",
      "text/plain": [
       "<Figure size 360x360 with 1 Axes>"
      ]
     },
     "metadata": {
      "needs_background": "light"
     },
     "output_type": "display_data"
    }
   ],
   "source": [
    "# Clickthrough Rate Per Group\n",
    "group_clickthrough =  clickthrough_df.groupby('group').mean()['is_clicked_link'].reset_index(name=\"clickthrough_rate\")\n",
    "sb.catplot(data=group_clickthrough, x='group', y=\"clickthrough_rate\", kind=\"bar\", color=default_colour);"
   ]
  },
  {
   "cell_type": "code",
   "execution_count": 30,
   "metadata": {},
   "outputs": [
    {
     "data": {
      "image/png": "[encoded data removed]",
      "text/plain": [
       "<Figure size 1080x360 with 1 Axes>"
      ]
     },
     "metadata": {
      "needs_background": "light"
     },
     "output_type": "display_data"
    }
   ],
   "source": [
    "daily_clickthrough = clickthrough_df.groupby(['day_of_week']).mean()['is_clicked_link'].reset_index(name=\"clickthrough_rate\")\n",
    "sb.catplot(data=daily_clickthrough, x='day_of_week', y=\"clickthrough_rate\", kind=\"bar\", color=default_colour, aspect=3);"
   ]
  },
  {
   "cell_type": "code",
   "execution_count": 31,
   "metadata": {},
   "outputs": [
    {
     "data": {
      "image/png": "[encoded data removed]",
      "text/plain": [
       "<Figure size 1080x360 with 1 Axes>"
      ]
     },
     "metadata": {
      "needs_background": "light"
     },
     "output_type": "display_data"
    }
   ],
   "source": [
    "# Daily Clickthrough Rate using Date\n",
    "date_clickthrough = clickthrough_df.groupby('date').mean()['is_clicked_link'].reset_index(name=\"clickthrough_rate\")\n",
    "sb.catplot(data=date_clickthrough, x='date', y=\"clickthrough_rate\", kind=\"bar\", color=default_colour, aspect=3);\n",
    "plt.xticks(rotation=45);"
   ]
  },
  {
   "cell_type": "code",
   "execution_count": 32,
   "metadata": {},
   "outputs": [
    {
     "data": {
      "image/png": "[encoded data removed]",
      "text/plain": [
       "<Figure size 1122.25x360 with 1 Axes>"
      ]
     },
     "metadata": {
      "needs_background": "light"
     },
     "output_type": "display_data"
    }
   ],
   "source": [
    "# Daily Clickthrough Rate using Day and Group\n",
    "daily_clickthrough_group = clickthrough_df.groupby(['group','day_of_week']).mean()['is_clicked_link'].reset_index(name=\"clickthrough_rate\")\n",
    "sb.catplot(data=daily_clickthrough_group, x='day_of_week', y=\"clickthrough_rate\", hue=\"group\", kind=\"bar\", color=default_colour, aspect=3);"
   ]
  },
  {
   "cell_type": "code",
   "execution_count": 33,
   "metadata": {},
   "outputs": [
    {
     "data": {
      "image/png": "[encoded data removed]",
      "text/plain": [
       "<Figure size 1122.25x360 with 1 Axes>"
      ]
     },
     "metadata": {
      "needs_background": "light"
     },
     "output_type": "display_data"
    }
   ],
   "source": [
    "# Daily Clickthrough Rate using Date and Group\n",
    "date_clickthrough_group = clickthrough_df.groupby(['group','date']).mean()['is_clicked_link'].reset_index(name=\"clickthrough_rate\")\n",
    "sb.catplot(data=date_clickthrough_group, x='date', y=\"clickthrough_rate\", hue=\"group\", kind=\"bar\", color=default_colour, aspect=3);\n",
    "plt.xticks(rotation=45);"
   ]
  },
  {
   "cell_type": "markdown",
   "metadata": {},
   "source": [
    "## **Zero Result Rates**"
   ]
  },
  {
   "cell_type": "code",
   "execution_count": 34,
   "metadata": {},
   "outputs": [
    {
     "name": "stderr",
     "output_type": "stream",
     "text": [
      "/home/mupati/.virtualenvs/azure-ml/lib/python3.6/site-packages/ipykernel_launcher.py:2: SettingWithCopyWarning: \n",
      "A value is trying to be set on a copy of a slice from a DataFrame.\n",
      "Try using .loc[row_indexer,col_indexer] = value instead\n",
      "\n",
      "See the caveats in the documentation: http://pandas.pydata.org/pandas-docs/stable/indexing.html#indexing-view-versus-copy\n",
      "  \n"
     ]
    },
    {
     "data": {
      "text/html": [
       "<div>\n",
       "<style scoped>\n",
       "    .dataframe tbody tr th:only-of-type {\n",
       "        vertical-align: middle;\n",
       "    }\n",
       "\n",
       "    .dataframe tbody tr th {\n",
       "        vertical-align: top;\n",
       "    }\n",
       "\n",
       "    .dataframe thead th {\n",
       "        text-align: right;\n",
       "    }\n",
       "</style>\n",
       "<table border=\"1\" class=\"dataframe\">\n",
       "  <thead>\n",
       "    <tr style=\"text-align: right;\">\n",
       "      <th></th>\n",
       "      <th>uuid</th>\n",
       "      <th>timestamp</th>\n",
       "      <th>session_id</th>\n",
       "      <th>group</th>\n",
       "      <th>action</th>\n",
       "      <th>checkin</th>\n",
       "      <th>page_id</th>\n",
       "      <th>n_results</th>\n",
       "      <th>result_position</th>\n",
       "      <th>day_of_week</th>\n",
       "      <th>time</th>\n",
       "      <th>week</th>\n",
       "      <th>date</th>\n",
       "      <th>session_duration</th>\n",
       "      <th>is_zero_result</th>\n",
       "    </tr>\n",
       "  </thead>\n",
       "  <tbody>\n",
       "    <tr>\n",
       "      <th>0</th>\n",
       "      <td>00000736167c507e8ec225bd9e71f9e5</td>\n",
       "      <td>2016-03-01 10:38:42+00:00</td>\n",
       "      <td>78245c2c3fba013a</td>\n",
       "      <td>b</td>\n",
       "      <td>searchResultPage</td>\n",
       "      <td>NaN</td>\n",
       "      <td>cbeb66d1bc1f1bc2</td>\n",
       "      <td>5.0</td>\n",
       "      <td>NaN</td>\n",
       "      <td>Tuesday</td>\n",
       "      <td>10:38:42</td>\n",
       "      <td>9</td>\n",
       "      <td>2016-03-01</td>\n",
       "      <td>44</td>\n",
       "      <td>False</td>\n",
       "    </tr>\n",
       "    <tr>\n",
       "      <th>6</th>\n",
       "      <td>00000c69fe345268935463abbfa5d5b3</td>\n",
       "      <td>2016-03-07 00:52:26+00:00</td>\n",
       "      <td>c559c3be98dca8a4</td>\n",
       "      <td>a</td>\n",
       "      <td>searchResultPage</td>\n",
       "      <td>NaN</td>\n",
       "      <td>eb658e8722aad674</td>\n",
       "      <td>10.0</td>\n",
       "      <td>NaN</td>\n",
       "      <td>Monday</td>\n",
       "      <td>00:52:26</td>\n",
       "      <td>10</td>\n",
       "      <td>2016-03-07</td>\n",
       "      <td>438</td>\n",
       "      <td>False</td>\n",
       "    </tr>\n",
       "    <tr>\n",
       "      <th>7</th>\n",
       "      <td>1115445e1557545eb9e1417a5b31c1a0</td>\n",
       "      <td>2016-03-07 00:52:30+00:00</td>\n",
       "      <td>c559c3be98dca8a4</td>\n",
       "      <td>a</td>\n",
       "      <td>searchResultPage</td>\n",
       "      <td>NaN</td>\n",
       "      <td>149f86f76a3b39bd</td>\n",
       "      <td>20.0</td>\n",
       "      <td>NaN</td>\n",
       "      <td>Monday</td>\n",
       "      <td>00:52:30</td>\n",
       "      <td>10</td>\n",
       "      <td>2016-03-07</td>\n",
       "      <td>438</td>\n",
       "      <td>False</td>\n",
       "    </tr>\n",
       "    <tr>\n",
       "      <th>8</th>\n",
       "      <td>1e2254f1e755535e8e86eb5786d90f44</td>\n",
       "      <td>2016-03-07 00:47:47+00:00</td>\n",
       "      <td>c559c3be98dca8a4</td>\n",
       "      <td>a</td>\n",
       "      <td>searchResultPage</td>\n",
       "      <td>NaN</td>\n",
       "      <td>fb94aee9822c380d</td>\n",
       "      <td>10.0</td>\n",
       "      <td>NaN</td>\n",
       "      <td>Monday</td>\n",
       "      <td>00:47:47</td>\n",
       "      <td>10</td>\n",
       "      <td>2016-03-07</td>\n",
       "      <td>438</td>\n",
       "      <td>False</td>\n",
       "    </tr>\n",
       "    <tr>\n",
       "      <th>9</th>\n",
       "      <td>21a94344ba3f5d9e9fd2449c0135cfd0</td>\n",
       "      <td>2016-03-07 00:49:29+00:00</td>\n",
       "      <td>c559c3be98dca8a4</td>\n",
       "      <td>a</td>\n",
       "      <td>searchResultPage</td>\n",
       "      <td>NaN</td>\n",
       "      <td>ea8a1cf52597df28</td>\n",
       "      <td>20.0</td>\n",
       "      <td>NaN</td>\n",
       "      <td>Monday</td>\n",
       "      <td>00:49:29</td>\n",
       "      <td>10</td>\n",
       "      <td>2016-03-07</td>\n",
       "      <td>438</td>\n",
       "      <td>False</td>\n",
       "    </tr>\n",
       "  </tbody>\n",
       "</table>\n",
       "</div>"
      ],
      "text/plain": [
       "                               uuid                 timestamp  \\\n",
       "0  00000736167c507e8ec225bd9e71f9e5 2016-03-01 10:38:42+00:00   \n",
       "6  00000c69fe345268935463abbfa5d5b3 2016-03-07 00:52:26+00:00   \n",
       "7  1115445e1557545eb9e1417a5b31c1a0 2016-03-07 00:52:30+00:00   \n",
       "8  1e2254f1e755535e8e86eb5786d90f44 2016-03-07 00:47:47+00:00   \n",
       "9  21a94344ba3f5d9e9fd2449c0135cfd0 2016-03-07 00:49:29+00:00   \n",
       "\n",
       "         session_id group            action  checkin           page_id  \\\n",
       "0  78245c2c3fba013a     b  searchResultPage      NaN  cbeb66d1bc1f1bc2   \n",
       "6  c559c3be98dca8a4     a  searchResultPage      NaN  eb658e8722aad674   \n",
       "7  c559c3be98dca8a4     a  searchResultPage      NaN  149f86f76a3b39bd   \n",
       "8  c559c3be98dca8a4     a  searchResultPage      NaN  fb94aee9822c380d   \n",
       "9  c559c3be98dca8a4     a  searchResultPage      NaN  ea8a1cf52597df28   \n",
       "\n",
       "   n_results  result_position day_of_week      time  week        date  \\\n",
       "0        5.0              NaN     Tuesday  10:38:42     9  2016-03-01   \n",
       "6       10.0              NaN      Monday  00:52:26    10  2016-03-07   \n",
       "7       20.0              NaN      Monday  00:52:30    10  2016-03-07   \n",
       "8       10.0              NaN      Monday  00:47:47    10  2016-03-07   \n",
       "9       20.0              NaN      Monday  00:49:29    10  2016-03-07   \n",
       "\n",
       "   session_duration  is_zero_result  \n",
       "0                44           False  \n",
       "6               438           False  \n",
       "7               438           False  \n",
       "8               438           False  \n",
       "9               438           False  "
      ]
     },
     "execution_count": 34,
     "metadata": {},
     "output_type": "execute_result"
    }
   ],
   "source": [
    "serp_df = df.query('action == \"searchResultPage\"')\n",
    "serp_df['is_zero_result'] = serp_df.apply(lambda x: True if (x.n_results == 0) else False , axis=1)\n",
    "serp_df.head()"
   ]
  },
  {
   "cell_type": "code",
   "execution_count": 35,
   "metadata": {},
   "outputs": [
    {
     "name": "stdout",
     "output_type": "stream",
     "text": [
      "0.18444000763392399\n"
     ]
    }
   ],
   "source": [
    "# Overall Zero Results Rate\n",
    "overall_zero_results_rate = np.mean(serp_df.is_zero_result)\n",
    "print(overall_zero_results_rate)"
   ]
  },
  {
   "cell_type": "code",
   "execution_count": 36,
   "metadata": {},
   "outputs": [
    {
     "name": "stdout",
     "output_type": "stream",
     "text": [
      "  group  zero_results_rate\n",
      "0     a           0.183606\n",
      "1     b           0.186179\n"
     ]
    },
    {
     "data": {
      "image/png": "[encoded data removed]",
      "text/plain": [
       "<Figure size 360x360 with 1 Axes>"
      ]
     },
     "metadata": {
      "needs_background": "light"
     },
     "output_type": "display_data"
    }
   ],
   "source": [
    "# Zero Results Rate Rate Per Group\n",
    "group_zero_results_rate =  serp_df.groupby('group').mean()['is_zero_result'].reset_index(name=\"zero_results_rate\")\n",
    "print(group_zero_results_rate)\n",
    "sb.catplot(data=group_zero_results_rate, x='group', y=\"zero_results_rate\", kind=\"bar\", color=default_colour);"
   ]
  },
  {
   "cell_type": "code",
   "execution_count": 37,
   "metadata": {},
   "outputs": [
    {
     "data": {
      "image/png": "[encoded data removed]",
      "text/plain": [
       "<Figure size 1080x360 with 1 Axes>"
      ]
     },
     "metadata": {
      "needs_background": "light"
     },
     "output_type": "display_data"
    }
   ],
   "source": [
    "daily_zero_results_rate = serp_df.groupby(['day_of_week']).mean()['is_zero_result'].reset_index(name=\"zero_results_rate\")\n",
    "sb.catplot(data=daily_zero_results_rate, x='day_of_week', y=\"zero_results_rate\", kind=\"bar\", color=default_colour, aspect=3);"
   ]
  },
  {
   "cell_type": "code",
   "execution_count": 38,
   "metadata": {},
   "outputs": [
    {
     "data": {
      "image/png": "[encoded data removed]",
      "text/plain": [
       "<Figure size 1122.25x360 with 1 Axes>"
      ]
     },
     "metadata": {
      "needs_background": "light"
     },
     "output_type": "display_data"
    }
   ],
   "source": [
    "# Zero Results Rate using Day and Group\n",
    "daily_zero_results_group = serp_df.groupby(['group','day_of_week']).mean()['is_zero_result'].reset_index(name=\"zero_results_rate\")\n",
    "sb.catplot(data=daily_zero_results_group, x='day_of_week', y=\"zero_results_rate\", hue=\"group\", kind=\"bar\", color=default_colour, aspect=3);"
   ]
  },
  {
   "cell_type": "markdown",
   "metadata": {},
   "source": [
    "## Which Result do people tend to choose first"
   ]
  },
  {
   "cell_type": "code",
   "execution_count": 39,
   "metadata": {},
   "outputs": [
    {
     "data": {
      "text/html": [
       "<div>\n",
       "<style scoped>\n",
       "    .dataframe tbody tr th:only-of-type {\n",
       "        vertical-align: middle;\n",
       "    }\n",
       "\n",
       "    .dataframe tbody tr th {\n",
       "        vertical-align: top;\n",
       "    }\n",
       "\n",
       "    .dataframe thead th {\n",
       "        text-align: right;\n",
       "    }\n",
       "</style>\n",
       "<table border=\"1\" class=\"dataframe\">\n",
       "  <thead>\n",
       "    <tr style=\"text-align: right;\">\n",
       "      <th></th>\n",
       "      <th>uuid</th>\n",
       "      <th>timestamp</th>\n",
       "      <th>session_id</th>\n",
       "      <th>group</th>\n",
       "      <th>action</th>\n",
       "      <th>checkin</th>\n",
       "      <th>page_id</th>\n",
       "      <th>n_results</th>\n",
       "      <th>result_position</th>\n",
       "      <th>day_of_week</th>\n",
       "      <th>time</th>\n",
       "      <th>week</th>\n",
       "      <th>date</th>\n",
       "      <th>session_duration</th>\n",
       "    </tr>\n",
       "  </thead>\n",
       "  <tbody>\n",
       "    <tr>\n",
       "      <th>0</th>\n",
       "      <td>00000736167c507e8ec225bd9e71f9e5</td>\n",
       "      <td>2016-03-01 10:38:42+00:00</td>\n",
       "      <td>78245c2c3fba013a</td>\n",
       "      <td>b</td>\n",
       "      <td>searchResultPage</td>\n",
       "      <td>NaN</td>\n",
       "      <td>cbeb66d1bc1f1bc2</td>\n",
       "      <td>5.0</td>\n",
       "      <td>NaN</td>\n",
       "      <td>Tuesday</td>\n",
       "      <td>10:38:42</td>\n",
       "      <td>9</td>\n",
       "      <td>2016-03-01</td>\n",
       "      <td>44</td>\n",
       "    </tr>\n",
       "    <tr>\n",
       "      <th>1</th>\n",
       "      <td>004690364c695f04b5d045913e1bdf7c</td>\n",
       "      <td>2016-03-01 10:39:16+00:00</td>\n",
       "      <td>78245c2c3fba013a</td>\n",
       "      <td>b</td>\n",
       "      <td>checkin</td>\n",
       "      <td>30.0</td>\n",
       "      <td>2f0e04bd56649f43</td>\n",
       "      <td>NaN</td>\n",
       "      <td>3.0</td>\n",
       "      <td>Tuesday</td>\n",
       "      <td>10:39:16</td>\n",
       "      <td>9</td>\n",
       "      <td>2016-03-01</td>\n",
       "      <td>44</td>\n",
       "    </tr>\n",
       "    <tr>\n",
       "      <th>2</th>\n",
       "      <td>0af62216356759fea26313e155f70809</td>\n",
       "      <td>2016-03-01 10:39:26+00:00</td>\n",
       "      <td>78245c2c3fba013a</td>\n",
       "      <td>b</td>\n",
       "      <td>checkin</td>\n",
       "      <td>40.0</td>\n",
       "      <td>2f0e04bd56649f43</td>\n",
       "      <td>NaN</td>\n",
       "      <td>3.0</td>\n",
       "      <td>Tuesday</td>\n",
       "      <td>10:39:26</td>\n",
       "      <td>9</td>\n",
       "      <td>2016-03-01</td>\n",
       "      <td>44</td>\n",
       "    </tr>\n",
       "    <tr>\n",
       "      <th>3</th>\n",
       "      <td>14601aeb2bf058af9380c1644e606e24</td>\n",
       "      <td>2016-03-01 10:39:06+00:00</td>\n",
       "      <td>78245c2c3fba013a</td>\n",
       "      <td>b</td>\n",
       "      <td>checkin</td>\n",
       "      <td>20.0</td>\n",
       "      <td>2f0e04bd56649f43</td>\n",
       "      <td>NaN</td>\n",
       "      <td>3.0</td>\n",
       "      <td>Tuesday</td>\n",
       "      <td>10:39:06</td>\n",
       "      <td>9</td>\n",
       "      <td>2016-03-01</td>\n",
       "      <td>44</td>\n",
       "    </tr>\n",
       "    <tr>\n",
       "      <th>4</th>\n",
       "      <td>33922e14b6bb5e27823481a3c44ed462</td>\n",
       "      <td>2016-03-01 10:38:56+00:00</td>\n",
       "      <td>78245c2c3fba013a</td>\n",
       "      <td>b</td>\n",
       "      <td>checkin</td>\n",
       "      <td>10.0</td>\n",
       "      <td>2f0e04bd56649f43</td>\n",
       "      <td>NaN</td>\n",
       "      <td>3.0</td>\n",
       "      <td>Tuesday</td>\n",
       "      <td>10:38:56</td>\n",
       "      <td>9</td>\n",
       "      <td>2016-03-01</td>\n",
       "      <td>44</td>\n",
       "    </tr>\n",
       "  </tbody>\n",
       "</table>\n",
       "</div>"
      ],
      "text/plain": [
       "                               uuid                 timestamp  \\\n",
       "0  00000736167c507e8ec225bd9e71f9e5 2016-03-01 10:38:42+00:00   \n",
       "1  004690364c695f04b5d045913e1bdf7c 2016-03-01 10:39:16+00:00   \n",
       "2  0af62216356759fea26313e155f70809 2016-03-01 10:39:26+00:00   \n",
       "3  14601aeb2bf058af9380c1644e606e24 2016-03-01 10:39:06+00:00   \n",
       "4  33922e14b6bb5e27823481a3c44ed462 2016-03-01 10:38:56+00:00   \n",
       "\n",
       "         session_id group            action  checkin           page_id  \\\n",
       "0  78245c2c3fba013a     b  searchResultPage      NaN  cbeb66d1bc1f1bc2   \n",
       "1  78245c2c3fba013a     b           checkin     30.0  2f0e04bd56649f43   \n",
       "2  78245c2c3fba013a     b           checkin     40.0  2f0e04bd56649f43   \n",
       "3  78245c2c3fba013a     b           checkin     20.0  2f0e04bd56649f43   \n",
       "4  78245c2c3fba013a     b           checkin     10.0  2f0e04bd56649f43   \n",
       "\n",
       "   n_results  result_position day_of_week      time  week        date  \\\n",
       "0        5.0              NaN     Tuesday  10:38:42     9  2016-03-01   \n",
       "1        NaN              3.0     Tuesday  10:39:16     9  2016-03-01   \n",
       "2        NaN              3.0     Tuesday  10:39:26     9  2016-03-01   \n",
       "3        NaN              3.0     Tuesday  10:39:06     9  2016-03-01   \n",
       "4        NaN              3.0     Tuesday  10:38:56     9  2016-03-01   \n",
       "\n",
       "   session_duration  \n",
       "0                44  \n",
       "1                44  \n",
       "2                44  \n",
       "3                44  \n",
       "4                44  "
      ]
     },
     "execution_count": 39,
     "metadata": {},
     "output_type": "execute_result"
    }
   ],
   "source": [
    "df.head()"
   ]
  },
  {
   "cell_type": "code",
   "execution_count": 40,
   "metadata": {},
   "outputs": [],
   "source": [
    "# Find the Results that were clicked and have an assigned position number\n",
    "clicked_results_with_position = df.query('action == \"visitPage\" and result_position.notna()')"
   ]
  },
  {
   "cell_type": "code",
   "execution_count": 41,
   "metadata": {},
   "outputs": [
    {
     "name": "stderr",
     "output_type": "stream",
     "text": [
      "/home/mupati/.virtualenvs/azure-ml/lib/python3.6/site-packages/pandas/core/generic.py:4405: SettingWithCopyWarning: \n",
      "A value is trying to be set on a copy of a slice from a DataFrame.\n",
      "Try using .loc[row_indexer,col_indexer] = value instead\n",
      "\n",
      "See the caveats in the documentation: http://pandas.pydata.org/pandas-docs/stable/indexing.html#indexing-view-versus-copy\n",
      "  self[name] = value\n"
     ]
    }
   ],
   "source": [
    "# Convert the result position number to int.\n",
    "clicked_results_with_position.result_position = clicked_results_with_position.result_position.astype('int64')"
   ]
  },
  {
   "cell_type": "code",
   "execution_count": 55,
   "metadata": {},
   "outputs": [
    {
     "data": {
      "text/html": [
       "<div>\n",
       "<style scoped>\n",
       "    .dataframe tbody tr th:only-of-type {\n",
       "        vertical-align: middle;\n",
       "    }\n",
       "\n",
       "    .dataframe tbody tr th {\n",
       "        vertical-align: top;\n",
       "    }\n",
       "\n",
       "    .dataframe thead th {\n",
       "        text-align: right;\n",
       "    }\n",
       "</style>\n",
       "<table border=\"1\" class=\"dataframe\">\n",
       "  <thead>\n",
       "    <tr style=\"text-align: right;\">\n",
       "      <th></th>\n",
       "      <th>uuid</th>\n",
       "      <th>timestamp</th>\n",
       "      <th>session_id</th>\n",
       "      <th>group</th>\n",
       "      <th>action</th>\n",
       "      <th>checkin</th>\n",
       "      <th>page_id</th>\n",
       "      <th>n_results</th>\n",
       "      <th>result_position</th>\n",
       "      <th>day_of_week</th>\n",
       "      <th>time</th>\n",
       "      <th>week</th>\n",
       "      <th>date</th>\n",
       "      <th>session_duration</th>\n",
       "    </tr>\n",
       "  </thead>\n",
       "  <tbody>\n",
       "    <tr>\n",
       "      <th>5</th>\n",
       "      <td>36af0358f25155fb8978d5f50737d432</td>\n",
       "      <td>2016-03-01 10:38:46+00:00</td>\n",
       "      <td>78245c2c3fba013a</td>\n",
       "      <td>b</td>\n",
       "      <td>visitPage</td>\n",
       "      <td>NaN</td>\n",
       "      <td>2f0e04bd56649f43</td>\n",
       "      <td>NaN</td>\n",
       "      <td>3</td>\n",
       "      <td>Tuesday</td>\n",
       "      <td>10:38:46</td>\n",
       "      <td>9</td>\n",
       "      <td>2016-03-01</td>\n",
       "      <td>44</td>\n",
       "    </tr>\n",
       "    <tr>\n",
       "      <th>33</th>\n",
       "      <td>62ba040aa2775572ad30a1aca140fee8</td>\n",
       "      <td>2016-03-02 14:43:09+00:00</td>\n",
       "      <td>760bf89817ce4b08</td>\n",
       "      <td>a</td>\n",
       "      <td>visitPage</td>\n",
       "      <td>NaN</td>\n",
       "      <td>4d306d4827f4fade</td>\n",
       "      <td>NaN</td>\n",
       "      <td>1</td>\n",
       "      <td>Wednesday</td>\n",
       "      <td>14:43:09</td>\n",
       "      <td>9</td>\n",
       "      <td>2016-03-02</td>\n",
       "      <td>627</td>\n",
       "    </tr>\n",
       "    <tr>\n",
       "      <th>39</th>\n",
       "      <td>962aa581f1f4570b81e71f6faa52d70e</td>\n",
       "      <td>2016-03-02 14:49:15+00:00</td>\n",
       "      <td>760bf89817ce4b08</td>\n",
       "      <td>a</td>\n",
       "      <td>visitPage</td>\n",
       "      <td>NaN</td>\n",
       "      <td>b25a59573344207a</td>\n",
       "      <td>NaN</td>\n",
       "      <td>1</td>\n",
       "      <td>Wednesday</td>\n",
       "      <td>14:49:15</td>\n",
       "      <td>9</td>\n",
       "      <td>2016-03-02</td>\n",
       "      <td>627</td>\n",
       "    </tr>\n",
       "    <tr>\n",
       "      <th>47</th>\n",
       "      <td>cf3f95e7327e537499927e0488ae38be</td>\n",
       "      <td>2016-03-02 14:45:39+00:00</td>\n",
       "      <td>760bf89817ce4b08</td>\n",
       "      <td>a</td>\n",
       "      <td>visitPage</td>\n",
       "      <td>NaN</td>\n",
       "      <td>ea7f2e3f09201d2e</td>\n",
       "      <td>NaN</td>\n",
       "      <td>3</td>\n",
       "      <td>Wednesday</td>\n",
       "      <td>14:45:39</td>\n",
       "      <td>9</td>\n",
       "      <td>2016-03-02</td>\n",
       "      <td>627</td>\n",
       "    </tr>\n",
       "    <tr>\n",
       "      <th>57</th>\n",
       "      <td>06f149eaeaf15c54b7691c883a7c909a</td>\n",
       "      <td>2016-03-02 22:20:26+00:00</td>\n",
       "      <td>fb905603d31b2071</td>\n",
       "      <td>a</td>\n",
       "      <td>visitPage</td>\n",
       "      <td>NaN</td>\n",
       "      <td>213a19adac7f7d34</td>\n",
       "      <td>NaN</td>\n",
       "      <td>30</td>\n",
       "      <td>Wednesday</td>\n",
       "      <td>22:20:26</td>\n",
       "      <td>9</td>\n",
       "      <td>2016-03-02</td>\n",
       "      <td>2278</td>\n",
       "    </tr>\n",
       "  </tbody>\n",
       "</table>\n",
       "</div>"
      ],
      "text/plain": [
       "                                uuid                 timestamp  \\\n",
       "5   36af0358f25155fb8978d5f50737d432 2016-03-01 10:38:46+00:00   \n",
       "33  62ba040aa2775572ad30a1aca140fee8 2016-03-02 14:43:09+00:00   \n",
       "39  962aa581f1f4570b81e71f6faa52d70e 2016-03-02 14:49:15+00:00   \n",
       "47  cf3f95e7327e537499927e0488ae38be 2016-03-02 14:45:39+00:00   \n",
       "57  06f149eaeaf15c54b7691c883a7c909a 2016-03-02 22:20:26+00:00   \n",
       "\n",
       "          session_id group     action  checkin           page_id  n_results  \\\n",
       "5   78245c2c3fba013a     b  visitPage      NaN  2f0e04bd56649f43        NaN   \n",
       "33  760bf89817ce4b08     a  visitPage      NaN  4d306d4827f4fade        NaN   \n",
       "39  760bf89817ce4b08     a  visitPage      NaN  b25a59573344207a        NaN   \n",
       "47  760bf89817ce4b08     a  visitPage      NaN  ea7f2e3f09201d2e        NaN   \n",
       "57  fb905603d31b2071     a  visitPage      NaN  213a19adac7f7d34        NaN   \n",
       "\n",
       "    result_position day_of_week      time  week        date  session_duration  \n",
       "5                 3     Tuesday  10:38:46     9  2016-03-01                44  \n",
       "33                1   Wednesday  14:43:09     9  2016-03-02               627  \n",
       "39                1   Wednesday  14:49:15     9  2016-03-02               627  \n",
       "47                3   Wednesday  14:45:39     9  2016-03-02               627  \n",
       "57               30   Wednesday  22:20:26     9  2016-03-02              2278  "
      ]
     },
     "execution_count": 55,
     "metadata": {},
     "output_type": "execute_result"
    }
   ],
   "source": [
    "clicked_results_with_position.head()"
   ]
  },
  {
   "cell_type": "code",
   "execution_count": 42,
   "metadata": {},
   "outputs": [],
   "source": [
    "# For each session, choose the one that was clicked first.\n",
    "grouped_sesssion = clicked_results_with_position.groupby('session_id')"
   ]
  },
  {
   "cell_type": "code",
   "execution_count": 114,
   "metadata": {},
   "outputs": [],
   "source": [
    "plot_data = grouped_sesssion[['timestamp', 'result_position']].apply(lambda g: g[g['timestamp'] == g['timestamp'].min()]).reset_index()"
   ]
  },
  {
   "cell_type": "code",
   "execution_count": 120,
   "metadata": {},
   "outputs": [
    {
     "name": "stdout",
     "output_type": "stream",
     "text": [
      "<class 'pandas.core.frame.DataFrame'>\n",
      "RangeIndex: 26450 entries, 0 to 26449\n",
      "Data columns (total 4 columns):\n",
      "session_id         26450 non-null category\n",
      "level_1            26450 non-null int64\n",
      "timestamp          26450 non-null datetime64[ns, UTC]\n",
      "result_position    26450 non-null int64\n",
      "dtypes: category(1), datetime64[ns, UTC](1), int64(2)\n",
      "memory usage: 3.7 MB\n"
     ]
    }
   ],
   "source": [
    "plot_data.info()"
   ]
  },
  {
   "cell_type": "code",
   "execution_count": 121,
   "metadata": {},
   "outputs": [],
   "source": [
    "# Get results with position <= 20\n",
    "plot_data = plot_data.query('result_position <= 20')"
   ]
  },
  {
   "cell_type": "code",
   "execution_count": 122,
   "metadata": {},
   "outputs": [
    {
     "data": {
      "text/html": [
       "<div>\n",
       "<style scoped>\n",
       "    .dataframe tbody tr th:only-of-type {\n",
       "        vertical-align: middle;\n",
       "    }\n",
       "\n",
       "    .dataframe tbody tr th {\n",
       "        vertical-align: top;\n",
       "    }\n",
       "\n",
       "    .dataframe thead th {\n",
       "        text-align: right;\n",
       "    }\n",
       "</style>\n",
       "<table border=\"1\" class=\"dataframe\">\n",
       "  <thead>\n",
       "    <tr style=\"text-align: right;\">\n",
       "      <th></th>\n",
       "      <th>level_1</th>\n",
       "      <th>result_position</th>\n",
       "    </tr>\n",
       "  </thead>\n",
       "  <tbody>\n",
       "    <tr>\n",
       "      <th>count</th>\n",
       "      <td>26386.000000</td>\n",
       "      <td>26386.000000</td>\n",
       "    </tr>\n",
       "    <tr>\n",
       "      <th>mean</th>\n",
       "      <td>215794.091602</td>\n",
       "      <td>2.047184</td>\n",
       "    </tr>\n",
       "    <tr>\n",
       "      <th>std</th>\n",
       "      <td>110292.679531</td>\n",
       "      <td>2.488467</td>\n",
       "    </tr>\n",
       "    <tr>\n",
       "      <th>min</th>\n",
       "      <td>5.000000</td>\n",
       "      <td>1.000000</td>\n",
       "    </tr>\n",
       "    <tr>\n",
       "      <th>25%</th>\n",
       "      <td>124876.250000</td>\n",
       "      <td>1.000000</td>\n",
       "    </tr>\n",
       "    <tr>\n",
       "      <th>50%</th>\n",
       "      <td>226678.500000</td>\n",
       "      <td>1.000000</td>\n",
       "    </tr>\n",
       "    <tr>\n",
       "      <th>75%</th>\n",
       "      <td>312945.750000</td>\n",
       "      <td>2.000000</td>\n",
       "    </tr>\n",
       "    <tr>\n",
       "      <th>max</th>\n",
       "      <td>399937.000000</td>\n",
       "      <td>20.000000</td>\n",
       "    </tr>\n",
       "  </tbody>\n",
       "</table>\n",
       "</div>"
      ],
      "text/plain": [
       "             level_1  result_position\n",
       "count   26386.000000     26386.000000\n",
       "mean   215794.091602         2.047184\n",
       "std    110292.679531         2.488467\n",
       "min         5.000000         1.000000\n",
       "25%    124876.250000         1.000000\n",
       "50%    226678.500000         1.000000\n",
       "75%    312945.750000         2.000000\n",
       "max    399937.000000        20.000000"
      ]
     },
     "execution_count": 122,
     "metadata": {},
     "output_type": "execute_result"
    }
   ],
   "source": [
    "plot_data.describe()"
   ]
  },
  {
   "cell_type": "code",
   "execution_count": 123,
   "metadata": {},
   "outputs": [
    {
     "data": {
      "image/png": "[encoded data removed]",
      "text/plain": [
       "<Figure size 360x360 with 1 Axes>"
      ]
     },
     "metadata": {
      "needs_background": "light"
     },
     "output_type": "display_data"
    }
   ],
   "source": [
    "sb.displot(data=plot_data, x='result_position');"
   ]
  },
  {
   "cell_type": "code",
   "execution_count": 130,
   "metadata": {},
   "outputs": [
    {
     "data": {
      "image/png": "[encoded data removed]",
      "text/plain": [
       "<Figure size 720x360 with 1 Axes>"
      ]
     },
     "metadata": {
      "needs_background": "light"
     },
     "output_type": "display_data"
    }
   ],
   "source": [
    "sb.displot(data=plot_data, x=\"result_position\", kind=\"ecdf\", aspect=2);\n",
    "plt.xticks(np.arange(0,21,1));\n",
    "plt.yticks(np.arange(0,1.05,0.05));"
   ]
  },
  {
   "cell_type": "code",
   "execution_count": null,
   "metadata": {},
   "outputs": [],
   "source": []
  }
 ],
 "metadata": {
  "kernelspec": {
   "display_name": "azure-ml",
   "language": "python",
   "name": "azure-ml"
  },
  "language_info": {
   "codemirror_mode": {
    "name": "ipython",
    "version": 3
   },
   "file_extension": ".py",
   "mimetype": "text/x-python",
   "name": "python",
   "nbconvert_exporter": "python",
   "pygments_lexer": "ipython3",
   "version": "3.6.9"
  }
 },
 "nbformat": 4,
 "nbformat_minor": 4
}
